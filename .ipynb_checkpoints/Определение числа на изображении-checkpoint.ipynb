{
 "cells": [
  {
   "cell_type": "code",
   "execution_count": 58,
   "id": "20d5425c",
   "metadata": {},
   "outputs": [],
   "source": [
    "import pandas as pd\n",
    "import numpy as np\n",
    "import seaborn as sns"
   ]
  },
  {
   "cell_type": "code",
   "execution_count": 59,
   "id": "8315f3a0",
   "metadata": {},
   "outputs": [],
   "source": [
    "# Базовая библиотека для рисования графиков и изображенйи в Python\n",
    "import matplotlib.pyplot as plt"
   ]
  },
  {
   "cell_type": "code",
   "execution_count": 60,
   "id": "286e878a",
   "metadata": {},
   "outputs": [],
   "source": [
    "from sklearn.model_selection import train_test_split"
   ]
  },
  {
   "cell_type": "code",
   "execution_count": 61,
   "id": "38f2f578",
   "metadata": {},
   "outputs": [],
   "source": [
    "sns.set(rc={'figure.figsize': (11.7, 8.27)})"
   ]
  },
  {
   "cell_type": "code",
   "execution_count": 62,
   "id": "3f3907bc",
   "metadata": {},
   "outputs": [],
   "source": [
    "import warnings\n",
    "warnings.filterwarnings('ignore')"
   ]
  },
  {
   "cell_type": "markdown",
   "id": "b160091f",
   "metadata": {},
   "source": [
    "# Чтение данных"
   ]
  },
  {
   "cell_type": "code",
   "execution_count": 63,
   "id": "29f7ea15",
   "metadata": {},
   "outputs": [],
   "source": [
    "data = pd.read_csv('images.csv')"
   ]
  },
  {
   "cell_type": "code",
   "execution_count": 64,
   "id": "c3b87166",
   "metadata": {},
   "outputs": [
    {
     "data": {
      "text/html": [
       "<div>\n",
       "<style scoped>\n",
       "    .dataframe tbody tr th:only-of-type {\n",
       "        vertical-align: middle;\n",
       "    }\n",
       "\n",
       "    .dataframe tbody tr th {\n",
       "        vertical-align: top;\n",
       "    }\n",
       "\n",
       "    .dataframe thead th {\n",
       "        text-align: right;\n",
       "    }\n",
       "</style>\n",
       "<table border=\"1\" class=\"dataframe\">\n",
       "  <thead>\n",
       "    <tr style=\"text-align: right;\">\n",
       "      <th></th>\n",
       "      <th>label</th>\n",
       "      <th>pixel0</th>\n",
       "      <th>pixel1</th>\n",
       "      <th>pixel2</th>\n",
       "      <th>pixel3</th>\n",
       "      <th>pixel4</th>\n",
       "      <th>pixel5</th>\n",
       "      <th>pixel6</th>\n",
       "      <th>pixel7</th>\n",
       "      <th>pixel8</th>\n",
       "      <th>...</th>\n",
       "      <th>pixel774</th>\n",
       "      <th>pixel775</th>\n",
       "      <th>pixel776</th>\n",
       "      <th>pixel777</th>\n",
       "      <th>pixel778</th>\n",
       "      <th>pixel779</th>\n",
       "      <th>pixel780</th>\n",
       "      <th>pixel781</th>\n",
       "      <th>pixel782</th>\n",
       "      <th>pixel783</th>\n",
       "    </tr>\n",
       "  </thead>\n",
       "  <tbody>\n",
       "    <tr>\n",
       "      <th>0</th>\n",
       "      <td>1</td>\n",
       "      <td>0</td>\n",
       "      <td>0</td>\n",
       "      <td>0</td>\n",
       "      <td>0</td>\n",
       "      <td>0</td>\n",
       "      <td>0</td>\n",
       "      <td>0</td>\n",
       "      <td>0</td>\n",
       "      <td>0</td>\n",
       "      <td>...</td>\n",
       "      <td>0</td>\n",
       "      <td>0</td>\n",
       "      <td>0</td>\n",
       "      <td>0</td>\n",
       "      <td>0</td>\n",
       "      <td>0</td>\n",
       "      <td>0</td>\n",
       "      <td>0</td>\n",
       "      <td>0</td>\n",
       "      <td>0</td>\n",
       "    </tr>\n",
       "    <tr>\n",
       "      <th>1</th>\n",
       "      <td>0</td>\n",
       "      <td>0</td>\n",
       "      <td>0</td>\n",
       "      <td>0</td>\n",
       "      <td>0</td>\n",
       "      <td>0</td>\n",
       "      <td>0</td>\n",
       "      <td>0</td>\n",
       "      <td>0</td>\n",
       "      <td>0</td>\n",
       "      <td>...</td>\n",
       "      <td>0</td>\n",
       "      <td>0</td>\n",
       "      <td>0</td>\n",
       "      <td>0</td>\n",
       "      <td>0</td>\n",
       "      <td>0</td>\n",
       "      <td>0</td>\n",
       "      <td>0</td>\n",
       "      <td>0</td>\n",
       "      <td>0</td>\n",
       "    </tr>\n",
       "    <tr>\n",
       "      <th>2</th>\n",
       "      <td>1</td>\n",
       "      <td>0</td>\n",
       "      <td>0</td>\n",
       "      <td>0</td>\n",
       "      <td>0</td>\n",
       "      <td>0</td>\n",
       "      <td>0</td>\n",
       "      <td>0</td>\n",
       "      <td>0</td>\n",
       "      <td>0</td>\n",
       "      <td>...</td>\n",
       "      <td>0</td>\n",
       "      <td>0</td>\n",
       "      <td>0</td>\n",
       "      <td>0</td>\n",
       "      <td>0</td>\n",
       "      <td>0</td>\n",
       "      <td>0</td>\n",
       "      <td>0</td>\n",
       "      <td>0</td>\n",
       "      <td>0</td>\n",
       "    </tr>\n",
       "    <tr>\n",
       "      <th>3</th>\n",
       "      <td>4</td>\n",
       "      <td>0</td>\n",
       "      <td>0</td>\n",
       "      <td>0</td>\n",
       "      <td>0</td>\n",
       "      <td>0</td>\n",
       "      <td>0</td>\n",
       "      <td>0</td>\n",
       "      <td>0</td>\n",
       "      <td>0</td>\n",
       "      <td>...</td>\n",
       "      <td>0</td>\n",
       "      <td>0</td>\n",
       "      <td>0</td>\n",
       "      <td>0</td>\n",
       "      <td>0</td>\n",
       "      <td>0</td>\n",
       "      <td>0</td>\n",
       "      <td>0</td>\n",
       "      <td>0</td>\n",
       "      <td>0</td>\n",
       "    </tr>\n",
       "    <tr>\n",
       "      <th>4</th>\n",
       "      <td>0</td>\n",
       "      <td>0</td>\n",
       "      <td>0</td>\n",
       "      <td>0</td>\n",
       "      <td>0</td>\n",
       "      <td>0</td>\n",
       "      <td>0</td>\n",
       "      <td>0</td>\n",
       "      <td>0</td>\n",
       "      <td>0</td>\n",
       "      <td>...</td>\n",
       "      <td>0</td>\n",
       "      <td>0</td>\n",
       "      <td>0</td>\n",
       "      <td>0</td>\n",
       "      <td>0</td>\n",
       "      <td>0</td>\n",
       "      <td>0</td>\n",
       "      <td>0</td>\n",
       "      <td>0</td>\n",
       "      <td>0</td>\n",
       "    </tr>\n",
       "    <tr>\n",
       "      <th>...</th>\n",
       "      <td>...</td>\n",
       "      <td>...</td>\n",
       "      <td>...</td>\n",
       "      <td>...</td>\n",
       "      <td>...</td>\n",
       "      <td>...</td>\n",
       "      <td>...</td>\n",
       "      <td>...</td>\n",
       "      <td>...</td>\n",
       "      <td>...</td>\n",
       "      <td>...</td>\n",
       "      <td>...</td>\n",
       "      <td>...</td>\n",
       "      <td>...</td>\n",
       "      <td>...</td>\n",
       "      <td>...</td>\n",
       "      <td>...</td>\n",
       "      <td>...</td>\n",
       "      <td>...</td>\n",
       "      <td>...</td>\n",
       "      <td>...</td>\n",
       "    </tr>\n",
       "    <tr>\n",
       "      <th>41995</th>\n",
       "      <td>0</td>\n",
       "      <td>0</td>\n",
       "      <td>0</td>\n",
       "      <td>0</td>\n",
       "      <td>0</td>\n",
       "      <td>0</td>\n",
       "      <td>0</td>\n",
       "      <td>0</td>\n",
       "      <td>0</td>\n",
       "      <td>0</td>\n",
       "      <td>...</td>\n",
       "      <td>0</td>\n",
       "      <td>0</td>\n",
       "      <td>0</td>\n",
       "      <td>0</td>\n",
       "      <td>0</td>\n",
       "      <td>0</td>\n",
       "      <td>0</td>\n",
       "      <td>0</td>\n",
       "      <td>0</td>\n",
       "      <td>0</td>\n",
       "    </tr>\n",
       "    <tr>\n",
       "      <th>41996</th>\n",
       "      <td>1</td>\n",
       "      <td>0</td>\n",
       "      <td>0</td>\n",
       "      <td>0</td>\n",
       "      <td>0</td>\n",
       "      <td>0</td>\n",
       "      <td>0</td>\n",
       "      <td>0</td>\n",
       "      <td>0</td>\n",
       "      <td>0</td>\n",
       "      <td>...</td>\n",
       "      <td>0</td>\n",
       "      <td>0</td>\n",
       "      <td>0</td>\n",
       "      <td>0</td>\n",
       "      <td>0</td>\n",
       "      <td>0</td>\n",
       "      <td>0</td>\n",
       "      <td>0</td>\n",
       "      <td>0</td>\n",
       "      <td>0</td>\n",
       "    </tr>\n",
       "    <tr>\n",
       "      <th>41997</th>\n",
       "      <td>7</td>\n",
       "      <td>0</td>\n",
       "      <td>0</td>\n",
       "      <td>0</td>\n",
       "      <td>0</td>\n",
       "      <td>0</td>\n",
       "      <td>0</td>\n",
       "      <td>0</td>\n",
       "      <td>0</td>\n",
       "      <td>0</td>\n",
       "      <td>...</td>\n",
       "      <td>0</td>\n",
       "      <td>0</td>\n",
       "      <td>0</td>\n",
       "      <td>0</td>\n",
       "      <td>0</td>\n",
       "      <td>0</td>\n",
       "      <td>0</td>\n",
       "      <td>0</td>\n",
       "      <td>0</td>\n",
       "      <td>0</td>\n",
       "    </tr>\n",
       "    <tr>\n",
       "      <th>41998</th>\n",
       "      <td>6</td>\n",
       "      <td>0</td>\n",
       "      <td>0</td>\n",
       "      <td>0</td>\n",
       "      <td>0</td>\n",
       "      <td>0</td>\n",
       "      <td>0</td>\n",
       "      <td>0</td>\n",
       "      <td>0</td>\n",
       "      <td>0</td>\n",
       "      <td>...</td>\n",
       "      <td>0</td>\n",
       "      <td>0</td>\n",
       "      <td>0</td>\n",
       "      <td>0</td>\n",
       "      <td>0</td>\n",
       "      <td>0</td>\n",
       "      <td>0</td>\n",
       "      <td>0</td>\n",
       "      <td>0</td>\n",
       "      <td>0</td>\n",
       "    </tr>\n",
       "    <tr>\n",
       "      <th>41999</th>\n",
       "      <td>9</td>\n",
       "      <td>0</td>\n",
       "      <td>0</td>\n",
       "      <td>0</td>\n",
       "      <td>0</td>\n",
       "      <td>0</td>\n",
       "      <td>0</td>\n",
       "      <td>0</td>\n",
       "      <td>0</td>\n",
       "      <td>0</td>\n",
       "      <td>...</td>\n",
       "      <td>0</td>\n",
       "      <td>0</td>\n",
       "      <td>0</td>\n",
       "      <td>0</td>\n",
       "      <td>0</td>\n",
       "      <td>0</td>\n",
       "      <td>0</td>\n",
       "      <td>0</td>\n",
       "      <td>0</td>\n",
       "      <td>0</td>\n",
       "    </tr>\n",
       "  </tbody>\n",
       "</table>\n",
       "<p>42000 rows × 785 columns</p>\n",
       "</div>"
      ],
      "text/plain": [
       "       label  pixel0  pixel1  pixel2  pixel3  pixel4  pixel5  pixel6  pixel7  \\\n",
       "0          1       0       0       0       0       0       0       0       0   \n",
       "1          0       0       0       0       0       0       0       0       0   \n",
       "2          1       0       0       0       0       0       0       0       0   \n",
       "3          4       0       0       0       0       0       0       0       0   \n",
       "4          0       0       0       0       0       0       0       0       0   \n",
       "...      ...     ...     ...     ...     ...     ...     ...     ...     ...   \n",
       "41995      0       0       0       0       0       0       0       0       0   \n",
       "41996      1       0       0       0       0       0       0       0       0   \n",
       "41997      7       0       0       0       0       0       0       0       0   \n",
       "41998      6       0       0       0       0       0       0       0       0   \n",
       "41999      9       0       0       0       0       0       0       0       0   \n",
       "\n",
       "       pixel8  ...  pixel774  pixel775  pixel776  pixel777  pixel778  \\\n",
       "0           0  ...         0         0         0         0         0   \n",
       "1           0  ...         0         0         0         0         0   \n",
       "2           0  ...         0         0         0         0         0   \n",
       "3           0  ...         0         0         0         0         0   \n",
       "4           0  ...         0         0         0         0         0   \n",
       "...       ...  ...       ...       ...       ...       ...       ...   \n",
       "41995       0  ...         0         0         0         0         0   \n",
       "41996       0  ...         0         0         0         0         0   \n",
       "41997       0  ...         0         0         0         0         0   \n",
       "41998       0  ...         0         0         0         0         0   \n",
       "41999       0  ...         0         0         0         0         0   \n",
       "\n",
       "       pixel779  pixel780  pixel781  pixel782  pixel783  \n",
       "0             0         0         0         0         0  \n",
       "1             0         0         0         0         0  \n",
       "2             0         0         0         0         0  \n",
       "3             0         0         0         0         0  \n",
       "4             0         0         0         0         0  \n",
       "...         ...       ...       ...       ...       ...  \n",
       "41995         0         0         0         0         0  \n",
       "41996         0         0         0         0         0  \n",
       "41997         0         0         0         0         0  \n",
       "41998         0         0         0         0         0  \n",
       "41999         0         0         0         0         0  \n",
       "\n",
       "[42000 rows x 785 columns]"
      ]
     },
     "execution_count": 64,
     "metadata": {},
     "output_type": "execute_result"
    }
   ],
   "source": [
    "data"
   ]
  },
  {
   "cell_type": "code",
   "execution_count": 65,
   "id": "b2b306f5",
   "metadata": {},
   "outputs": [
    {
     "data": {
      "text/html": [
       "<div>\n",
       "<style scoped>\n",
       "    .dataframe tbody tr th:only-of-type {\n",
       "        vertical-align: middle;\n",
       "    }\n",
       "\n",
       "    .dataframe tbody tr th {\n",
       "        vertical-align: top;\n",
       "    }\n",
       "\n",
       "    .dataframe thead th {\n",
       "        text-align: right;\n",
       "    }\n",
       "</style>\n",
       "<table border=\"1\" class=\"dataframe\">\n",
       "  <thead>\n",
       "    <tr style=\"text-align: right;\">\n",
       "      <th></th>\n",
       "      <th>label</th>\n",
       "      <th>count</th>\n",
       "    </tr>\n",
       "  </thead>\n",
       "  <tbody>\n",
       "    <tr>\n",
       "      <th>0</th>\n",
       "      <td>0</td>\n",
       "      <td>4132</td>\n",
       "    </tr>\n",
       "    <tr>\n",
       "      <th>1</th>\n",
       "      <td>1</td>\n",
       "      <td>4684</td>\n",
       "    </tr>\n",
       "    <tr>\n",
       "      <th>2</th>\n",
       "      <td>2</td>\n",
       "      <td>4177</td>\n",
       "    </tr>\n",
       "    <tr>\n",
       "      <th>3</th>\n",
       "      <td>3</td>\n",
       "      <td>4351</td>\n",
       "    </tr>\n",
       "    <tr>\n",
       "      <th>4</th>\n",
       "      <td>4</td>\n",
       "      <td>4072</td>\n",
       "    </tr>\n",
       "    <tr>\n",
       "      <th>5</th>\n",
       "      <td>5</td>\n",
       "      <td>3795</td>\n",
       "    </tr>\n",
       "    <tr>\n",
       "      <th>6</th>\n",
       "      <td>6</td>\n",
       "      <td>4137</td>\n",
       "    </tr>\n",
       "    <tr>\n",
       "      <th>7</th>\n",
       "      <td>7</td>\n",
       "      <td>4401</td>\n",
       "    </tr>\n",
       "    <tr>\n",
       "      <th>8</th>\n",
       "      <td>8</td>\n",
       "      <td>4063</td>\n",
       "    </tr>\n",
       "    <tr>\n",
       "      <th>9</th>\n",
       "      <td>9</td>\n",
       "      <td>4188</td>\n",
       "    </tr>\n",
       "  </tbody>\n",
       "</table>\n",
       "</div>"
      ],
      "text/plain": [
       "   label  count\n",
       "0      0   4132\n",
       "1      1   4684\n",
       "2      2   4177\n",
       "3      3   4351\n",
       "4      4   4072\n",
       "5      5   3795\n",
       "6      6   4137\n",
       "7      7   4401\n",
       "8      8   4063\n",
       "9      9   4188"
      ]
     },
     "execution_count": 65,
     "metadata": {},
     "output_type": "execute_result"
    }
   ],
   "source": [
    "data.groupby('label', as_index=False) \\\n",
    "    .agg({'pixel0': 'count'}) \\\n",
    "    .rename(columns={'pixel0': 'count'})"
   ]
  },
  {
   "cell_type": "code",
   "execution_count": 66,
   "id": "b848cee5",
   "metadata": {},
   "outputs": [],
   "source": [
    "X = data.drop(columns='label')\n",
    "y = data['label']"
   ]
  },
  {
   "cell_type": "code",
   "execution_count": 67,
   "id": "6f62c940",
   "metadata": {},
   "outputs": [],
   "source": [
    "X_train, X_test, y_train, y_test = train_test_split(X, y, test_size=0.2, random_state=0)"
   ]
  },
  {
   "cell_type": "markdown",
   "id": "ff2cbf08",
   "metadata": {},
   "source": [
    "## Исследовательский анализ данных"
   ]
  },
  {
   "cell_type": "code",
   "execution_count": 68,
   "id": "42637559",
   "metadata": {},
   "outputs": [],
   "source": [
    "X_y_train = X_train.copy(deep=True)"
   ]
  },
  {
   "cell_type": "code",
   "execution_count": 69,
   "id": "23fc2c37",
   "metadata": {},
   "outputs": [],
   "source": [
    "X_y_train['y'] = y_train"
   ]
  },
  {
   "cell_type": "code",
   "execution_count": 70,
   "id": "eede3eea",
   "metadata": {},
   "outputs": [],
   "source": [
    "def print_image(image_flat, ax=None):\n",
    "    image = image_flat.reshape(28, 28).astype('uint8')\n",
    "    \n",
    "    if ax is None:\n",
    "        plt.imshow(image)\n",
    "    else:\n",
    "        ax.axis('off')\n",
    "        ax.imshow(image)"
   ]
  },
  {
   "cell_type": "code",
   "execution_count": 71,
   "id": "8677da68",
   "metadata": {},
   "outputs": [
    {
     "data": {
      "text/html": [
       "<div>\n",
       "<style scoped>\n",
       "    .dataframe tbody tr th:only-of-type {\n",
       "        vertical-align: middle;\n",
       "    }\n",
       "\n",
       "    .dataframe tbody tr th {\n",
       "        vertical-align: top;\n",
       "    }\n",
       "\n",
       "    .dataframe thead th {\n",
       "        text-align: right;\n",
       "    }\n",
       "</style>\n",
       "<table border=\"1\" class=\"dataframe\">\n",
       "  <thead>\n",
       "    <tr style=\"text-align: right;\">\n",
       "      <th></th>\n",
       "      <th>pixel0</th>\n",
       "      <th>pixel1</th>\n",
       "      <th>pixel2</th>\n",
       "      <th>pixel3</th>\n",
       "      <th>pixel4</th>\n",
       "      <th>pixel5</th>\n",
       "      <th>pixel6</th>\n",
       "      <th>pixel7</th>\n",
       "      <th>pixel8</th>\n",
       "      <th>pixel9</th>\n",
       "      <th>...</th>\n",
       "      <th>pixel775</th>\n",
       "      <th>pixel776</th>\n",
       "      <th>pixel777</th>\n",
       "      <th>pixel778</th>\n",
       "      <th>pixel779</th>\n",
       "      <th>pixel780</th>\n",
       "      <th>pixel781</th>\n",
       "      <th>pixel782</th>\n",
       "      <th>pixel783</th>\n",
       "      <th>y</th>\n",
       "    </tr>\n",
       "  </thead>\n",
       "  <tbody>\n",
       "    <tr>\n",
       "      <th>39317</th>\n",
       "      <td>0</td>\n",
       "      <td>0</td>\n",
       "      <td>0</td>\n",
       "      <td>0</td>\n",
       "      <td>0</td>\n",
       "      <td>0</td>\n",
       "      <td>0</td>\n",
       "      <td>0</td>\n",
       "      <td>0</td>\n",
       "      <td>0</td>\n",
       "      <td>...</td>\n",
       "      <td>0</td>\n",
       "      <td>0</td>\n",
       "      <td>0</td>\n",
       "      <td>0</td>\n",
       "      <td>0</td>\n",
       "      <td>0</td>\n",
       "      <td>0</td>\n",
       "      <td>0</td>\n",
       "      <td>0</td>\n",
       "      <td>6</td>\n",
       "    </tr>\n",
       "    <tr>\n",
       "      <th>32837</th>\n",
       "      <td>0</td>\n",
       "      <td>0</td>\n",
       "      <td>0</td>\n",
       "      <td>0</td>\n",
       "      <td>0</td>\n",
       "      <td>0</td>\n",
       "      <td>0</td>\n",
       "      <td>0</td>\n",
       "      <td>0</td>\n",
       "      <td>0</td>\n",
       "      <td>...</td>\n",
       "      <td>0</td>\n",
       "      <td>0</td>\n",
       "      <td>0</td>\n",
       "      <td>0</td>\n",
       "      <td>0</td>\n",
       "      <td>0</td>\n",
       "      <td>0</td>\n",
       "      <td>0</td>\n",
       "      <td>0</td>\n",
       "      <td>6</td>\n",
       "    </tr>\n",
       "    <tr>\n",
       "      <th>16644</th>\n",
       "      <td>0</td>\n",
       "      <td>0</td>\n",
       "      <td>0</td>\n",
       "      <td>0</td>\n",
       "      <td>0</td>\n",
       "      <td>0</td>\n",
       "      <td>0</td>\n",
       "      <td>0</td>\n",
       "      <td>0</td>\n",
       "      <td>0</td>\n",
       "      <td>...</td>\n",
       "      <td>0</td>\n",
       "      <td>0</td>\n",
       "      <td>0</td>\n",
       "      <td>0</td>\n",
       "      <td>0</td>\n",
       "      <td>0</td>\n",
       "      <td>0</td>\n",
       "      <td>0</td>\n",
       "      <td>0</td>\n",
       "      <td>4</td>\n",
       "    </tr>\n",
       "    <tr>\n",
       "      <th>20005</th>\n",
       "      <td>0</td>\n",
       "      <td>0</td>\n",
       "      <td>0</td>\n",
       "      <td>0</td>\n",
       "      <td>0</td>\n",
       "      <td>0</td>\n",
       "      <td>0</td>\n",
       "      <td>0</td>\n",
       "      <td>0</td>\n",
       "      <td>0</td>\n",
       "      <td>...</td>\n",
       "      <td>0</td>\n",
       "      <td>0</td>\n",
       "      <td>0</td>\n",
       "      <td>0</td>\n",
       "      <td>0</td>\n",
       "      <td>0</td>\n",
       "      <td>0</td>\n",
       "      <td>0</td>\n",
       "      <td>0</td>\n",
       "      <td>4</td>\n",
       "    </tr>\n",
       "    <tr>\n",
       "      <th>1533</th>\n",
       "      <td>0</td>\n",
       "      <td>0</td>\n",
       "      <td>0</td>\n",
       "      <td>0</td>\n",
       "      <td>0</td>\n",
       "      <td>0</td>\n",
       "      <td>0</td>\n",
       "      <td>0</td>\n",
       "      <td>0</td>\n",
       "      <td>0</td>\n",
       "      <td>...</td>\n",
       "      <td>0</td>\n",
       "      <td>0</td>\n",
       "      <td>0</td>\n",
       "      <td>0</td>\n",
       "      <td>0</td>\n",
       "      <td>0</td>\n",
       "      <td>0</td>\n",
       "      <td>0</td>\n",
       "      <td>0</td>\n",
       "      <td>2</td>\n",
       "    </tr>\n",
       "    <tr>\n",
       "      <th>...</th>\n",
       "      <td>...</td>\n",
       "      <td>...</td>\n",
       "      <td>...</td>\n",
       "      <td>...</td>\n",
       "      <td>...</td>\n",
       "      <td>...</td>\n",
       "      <td>...</td>\n",
       "      <td>...</td>\n",
       "      <td>...</td>\n",
       "      <td>...</td>\n",
       "      <td>...</td>\n",
       "      <td>...</td>\n",
       "      <td>...</td>\n",
       "      <td>...</td>\n",
       "      <td>...</td>\n",
       "      <td>...</td>\n",
       "      <td>...</td>\n",
       "      <td>...</td>\n",
       "      <td>...</td>\n",
       "      <td>...</td>\n",
       "      <td>...</td>\n",
       "    </tr>\n",
       "    <tr>\n",
       "      <th>41993</th>\n",
       "      <td>0</td>\n",
       "      <td>0</td>\n",
       "      <td>0</td>\n",
       "      <td>0</td>\n",
       "      <td>0</td>\n",
       "      <td>0</td>\n",
       "      <td>0</td>\n",
       "      <td>0</td>\n",
       "      <td>0</td>\n",
       "      <td>0</td>\n",
       "      <td>...</td>\n",
       "      <td>0</td>\n",
       "      <td>0</td>\n",
       "      <td>0</td>\n",
       "      <td>0</td>\n",
       "      <td>0</td>\n",
       "      <td>0</td>\n",
       "      <td>0</td>\n",
       "      <td>0</td>\n",
       "      <td>0</td>\n",
       "      <td>6</td>\n",
       "    </tr>\n",
       "    <tr>\n",
       "      <th>32103</th>\n",
       "      <td>0</td>\n",
       "      <td>0</td>\n",
       "      <td>0</td>\n",
       "      <td>0</td>\n",
       "      <td>0</td>\n",
       "      <td>0</td>\n",
       "      <td>0</td>\n",
       "      <td>0</td>\n",
       "      <td>0</td>\n",
       "      <td>0</td>\n",
       "      <td>...</td>\n",
       "      <td>0</td>\n",
       "      <td>0</td>\n",
       "      <td>0</td>\n",
       "      <td>0</td>\n",
       "      <td>0</td>\n",
       "      <td>0</td>\n",
       "      <td>0</td>\n",
       "      <td>0</td>\n",
       "      <td>0</td>\n",
       "      <td>1</td>\n",
       "    </tr>\n",
       "    <tr>\n",
       "      <th>30403</th>\n",
       "      <td>0</td>\n",
       "      <td>0</td>\n",
       "      <td>0</td>\n",
       "      <td>0</td>\n",
       "      <td>0</td>\n",
       "      <td>0</td>\n",
       "      <td>0</td>\n",
       "      <td>0</td>\n",
       "      <td>0</td>\n",
       "      <td>0</td>\n",
       "      <td>...</td>\n",
       "      <td>0</td>\n",
       "      <td>0</td>\n",
       "      <td>0</td>\n",
       "      <td>0</td>\n",
       "      <td>0</td>\n",
       "      <td>0</td>\n",
       "      <td>0</td>\n",
       "      <td>0</td>\n",
       "      <td>0</td>\n",
       "      <td>9</td>\n",
       "    </tr>\n",
       "    <tr>\n",
       "      <th>21243</th>\n",
       "      <td>0</td>\n",
       "      <td>0</td>\n",
       "      <td>0</td>\n",
       "      <td>0</td>\n",
       "      <td>0</td>\n",
       "      <td>0</td>\n",
       "      <td>0</td>\n",
       "      <td>0</td>\n",
       "      <td>0</td>\n",
       "      <td>0</td>\n",
       "      <td>...</td>\n",
       "      <td>0</td>\n",
       "      <td>0</td>\n",
       "      <td>0</td>\n",
       "      <td>0</td>\n",
       "      <td>0</td>\n",
       "      <td>0</td>\n",
       "      <td>0</td>\n",
       "      <td>0</td>\n",
       "      <td>0</td>\n",
       "      <td>0</td>\n",
       "    </tr>\n",
       "    <tr>\n",
       "      <th>2732</th>\n",
       "      <td>0</td>\n",
       "      <td>0</td>\n",
       "      <td>0</td>\n",
       "      <td>0</td>\n",
       "      <td>0</td>\n",
       "      <td>0</td>\n",
       "      <td>0</td>\n",
       "      <td>0</td>\n",
       "      <td>0</td>\n",
       "      <td>0</td>\n",
       "      <td>...</td>\n",
       "      <td>0</td>\n",
       "      <td>0</td>\n",
       "      <td>0</td>\n",
       "      <td>0</td>\n",
       "      <td>0</td>\n",
       "      <td>0</td>\n",
       "      <td>0</td>\n",
       "      <td>0</td>\n",
       "      <td>0</td>\n",
       "      <td>9</td>\n",
       "    </tr>\n",
       "  </tbody>\n",
       "</table>\n",
       "<p>33600 rows × 785 columns</p>\n",
       "</div>"
      ],
      "text/plain": [
       "       pixel0  pixel1  pixel2  pixel3  pixel4  pixel5  pixel6  pixel7  pixel8  \\\n",
       "39317       0       0       0       0       0       0       0       0       0   \n",
       "32837       0       0       0       0       0       0       0       0       0   \n",
       "16644       0       0       0       0       0       0       0       0       0   \n",
       "20005       0       0       0       0       0       0       0       0       0   \n",
       "1533        0       0       0       0       0       0       0       0       0   \n",
       "...       ...     ...     ...     ...     ...     ...     ...     ...     ...   \n",
       "41993       0       0       0       0       0       0       0       0       0   \n",
       "32103       0       0       0       0       0       0       0       0       0   \n",
       "30403       0       0       0       0       0       0       0       0       0   \n",
       "21243       0       0       0       0       0       0       0       0       0   \n",
       "2732        0       0       0       0       0       0       0       0       0   \n",
       "\n",
       "       pixel9  ...  pixel775  pixel776  pixel777  pixel778  pixel779  \\\n",
       "39317       0  ...         0         0         0         0         0   \n",
       "32837       0  ...         0         0         0         0         0   \n",
       "16644       0  ...         0         0         0         0         0   \n",
       "20005       0  ...         0         0         0         0         0   \n",
       "1533        0  ...         0         0         0         0         0   \n",
       "...       ...  ...       ...       ...       ...       ...       ...   \n",
       "41993       0  ...         0         0         0         0         0   \n",
       "32103       0  ...         0         0         0         0         0   \n",
       "30403       0  ...         0         0         0         0         0   \n",
       "21243       0  ...         0         0         0         0         0   \n",
       "2732        0  ...         0         0         0         0         0   \n",
       "\n",
       "       pixel780  pixel781  pixel782  pixel783  y  \n",
       "39317         0         0         0         0  6  \n",
       "32837         0         0         0         0  6  \n",
       "16644         0         0         0         0  4  \n",
       "20005         0         0         0         0  4  \n",
       "1533          0         0         0         0  2  \n",
       "...         ...       ...       ...       ... ..  \n",
       "41993         0         0         0         0  6  \n",
       "32103         0         0         0         0  1  \n",
       "30403         0         0         0         0  9  \n",
       "21243         0         0         0         0  0  \n",
       "2732          0         0         0         0  9  \n",
       "\n",
       "[33600 rows x 785 columns]"
      ]
     },
     "execution_count": 71,
     "metadata": {},
     "output_type": "execute_result"
    }
   ],
   "source": [
    "X_y_train"
   ]
  },
  {
   "cell_type": "code",
   "execution_count": 72,
   "id": "c14dab30",
   "metadata": {},
   "outputs": [
    {
     "data": {
      "text/plain": [
       "array([[0, 0, 0, ..., 0, 0, 6],\n",
       "       [0, 0, 0, ..., 0, 0, 6],\n",
       "       [0, 0, 0, ..., 0, 0, 4],\n",
       "       ...,\n",
       "       [0, 0, 0, ..., 0, 0, 9],\n",
       "       [0, 0, 0, ..., 0, 0, 0],\n",
       "       [0, 0, 0, ..., 0, 0, 9]])"
      ]
     },
     "execution_count": 72,
     "metadata": {},
     "output_type": "execute_result"
    }
   ],
   "source": [
    "X_y_train.values"
   ]
  },
  {
   "cell_type": "code",
   "execution_count": 73,
   "id": "9a436a84",
   "metadata": {},
   "outputs": [
    {
     "data": {
      "image/png": "[encoded data removed]",
      "text/plain": [
       "<Figure size 1170x827 with 1 Axes>"
      ]
     },
     "metadata": {},
     "output_type": "display_data"
    }
   ],
   "source": [
    "print_image(X_y_train.values[2, :-1], ax=plt)"
   ]
  },
  {
   "cell_type": "code",
   "execution_count": 74,
   "id": "01f10121",
   "metadata": {},
   "outputs": [
    {
     "data": {
      "image/png": "[encoded data removed]",
      "text/plain": [
       "<Figure size 1200x1000 with 100 Axes>"
      ]
     },
     "metadata": {},
     "output_type": "display_data"
    }
   ],
   "source": [
    "fig, axs = plt.subplots(10, 10, figsize=(12,10),\n",
    "                       sharex=True, sharey=True)\n",
    "\n",
    "group_n = 0\n",
    "for _, group in X_y_train.groupby('y', as_index=False):\n",
    "    random_numbers = group.sample(10).drop(columns='y')\n",
    "    image_vects = [x.values for _, x in random_numbers.iterrows()]\n",
    "    \n",
    "    image_n = 0\n",
    "    for image in image_vects:\n",
    "        print_image(image, ax=axs[group_n][image_n])\n",
    "        image_n += 1\n",
    "        \n",
    "    group_n += 1"
   ]
  },
  {
   "cell_type": "markdown",
   "id": "de75c1ef",
   "metadata": {},
   "source": [
    "# Подготовка факторов"
   ]
  },
  {
   "cell_type": "code",
   "execution_count": 75,
   "id": "f01d8172",
   "metadata": {},
   "outputs": [
    {
     "data": {
      "text/html": [
       "<div>\n",
       "<style scoped>\n",
       "    .dataframe tbody tr th:only-of-type {\n",
       "        vertical-align: middle;\n",
       "    }\n",
       "\n",
       "    .dataframe tbody tr th {\n",
       "        vertical-align: top;\n",
       "    }\n",
       "\n",
       "    .dataframe thead th {\n",
       "        text-align: right;\n",
       "    }\n",
       "</style>\n",
       "<table border=\"1\" class=\"dataframe\">\n",
       "  <thead>\n",
       "    <tr style=\"text-align: right;\">\n",
       "      <th></th>\n",
       "      <th>pixel0</th>\n",
       "      <th>pixel1</th>\n",
       "      <th>pixel2</th>\n",
       "      <th>pixel3</th>\n",
       "      <th>pixel4</th>\n",
       "      <th>pixel5</th>\n",
       "      <th>pixel6</th>\n",
       "      <th>pixel7</th>\n",
       "      <th>pixel8</th>\n",
       "      <th>pixel9</th>\n",
       "      <th>...</th>\n",
       "      <th>pixel774</th>\n",
       "      <th>pixel775</th>\n",
       "      <th>pixel776</th>\n",
       "      <th>pixel777</th>\n",
       "      <th>pixel778</th>\n",
       "      <th>pixel779</th>\n",
       "      <th>pixel780</th>\n",
       "      <th>pixel781</th>\n",
       "      <th>pixel782</th>\n",
       "      <th>pixel783</th>\n",
       "    </tr>\n",
       "  </thead>\n",
       "  <tbody>\n",
       "    <tr>\n",
       "      <th>count</th>\n",
       "      <td>33600.0</td>\n",
       "      <td>33600.0</td>\n",
       "      <td>33600.0</td>\n",
       "      <td>33600.0</td>\n",
       "      <td>33600.0</td>\n",
       "      <td>33600.0</td>\n",
       "      <td>33600.0</td>\n",
       "      <td>33600.0</td>\n",
       "      <td>33600.0</td>\n",
       "      <td>33600.0</td>\n",
       "      <td>...</td>\n",
       "      <td>33600.000000</td>\n",
       "      <td>33600.000000</td>\n",
       "      <td>33600.000000</td>\n",
       "      <td>33600.000000</td>\n",
       "      <td>33600.000000</td>\n",
       "      <td>33600.000000</td>\n",
       "      <td>33600.0</td>\n",
       "      <td>33600.0</td>\n",
       "      <td>33600.0</td>\n",
       "      <td>33600.0</td>\n",
       "    </tr>\n",
       "    <tr>\n",
       "      <th>mean</th>\n",
       "      <td>0.0</td>\n",
       "      <td>0.0</td>\n",
       "      <td>0.0</td>\n",
       "      <td>0.0</td>\n",
       "      <td>0.0</td>\n",
       "      <td>0.0</td>\n",
       "      <td>0.0</td>\n",
       "      <td>0.0</td>\n",
       "      <td>0.0</td>\n",
       "      <td>0.0</td>\n",
       "      <td>...</td>\n",
       "      <td>0.227827</td>\n",
       "      <td>0.130268</td>\n",
       "      <td>0.064226</td>\n",
       "      <td>0.021429</td>\n",
       "      <td>0.021548</td>\n",
       "      <td>0.003571</td>\n",
       "      <td>0.0</td>\n",
       "      <td>0.0</td>\n",
       "      <td>0.0</td>\n",
       "      <td>0.0</td>\n",
       "    </tr>\n",
       "    <tr>\n",
       "      <th>std</th>\n",
       "      <td>0.0</td>\n",
       "      <td>0.0</td>\n",
       "      <td>0.0</td>\n",
       "      <td>0.0</td>\n",
       "      <td>0.0</td>\n",
       "      <td>0.0</td>\n",
       "      <td>0.0</td>\n",
       "      <td>0.0</td>\n",
       "      <td>0.0</td>\n",
       "      <td>0.0</td>\n",
       "      <td>...</td>\n",
       "      <td>6.578347</td>\n",
       "      <td>4.818621</td>\n",
       "      <td>3.437205</td>\n",
       "      <td>1.839529</td>\n",
       "      <td>2.118097</td>\n",
       "      <td>0.463160</td>\n",
       "      <td>0.0</td>\n",
       "      <td>0.0</td>\n",
       "      <td>0.0</td>\n",
       "      <td>0.0</td>\n",
       "    </tr>\n",
       "    <tr>\n",
       "      <th>min</th>\n",
       "      <td>0.0</td>\n",
       "      <td>0.0</td>\n",
       "      <td>0.0</td>\n",
       "      <td>0.0</td>\n",
       "      <td>0.0</td>\n",
       "      <td>0.0</td>\n",
       "      <td>0.0</td>\n",
       "      <td>0.0</td>\n",
       "      <td>0.0</td>\n",
       "      <td>0.0</td>\n",
       "      <td>...</td>\n",
       "      <td>0.000000</td>\n",
       "      <td>0.000000</td>\n",
       "      <td>0.000000</td>\n",
       "      <td>0.000000</td>\n",
       "      <td>0.000000</td>\n",
       "      <td>0.000000</td>\n",
       "      <td>0.0</td>\n",
       "      <td>0.0</td>\n",
       "      <td>0.0</td>\n",
       "      <td>0.0</td>\n",
       "    </tr>\n",
       "    <tr>\n",
       "      <th>25%</th>\n",
       "      <td>0.0</td>\n",
       "      <td>0.0</td>\n",
       "      <td>0.0</td>\n",
       "      <td>0.0</td>\n",
       "      <td>0.0</td>\n",
       "      <td>0.0</td>\n",
       "      <td>0.0</td>\n",
       "      <td>0.0</td>\n",
       "      <td>0.0</td>\n",
       "      <td>0.0</td>\n",
       "      <td>...</td>\n",
       "      <td>0.000000</td>\n",
       "      <td>0.000000</td>\n",
       "      <td>0.000000</td>\n",
       "      <td>0.000000</td>\n",
       "      <td>0.000000</td>\n",
       "      <td>0.000000</td>\n",
       "      <td>0.0</td>\n",
       "      <td>0.0</td>\n",
       "      <td>0.0</td>\n",
       "      <td>0.0</td>\n",
       "    </tr>\n",
       "    <tr>\n",
       "      <th>50%</th>\n",
       "      <td>0.0</td>\n",
       "      <td>0.0</td>\n",
       "      <td>0.0</td>\n",
       "      <td>0.0</td>\n",
       "      <td>0.0</td>\n",
       "      <td>0.0</td>\n",
       "      <td>0.0</td>\n",
       "      <td>0.0</td>\n",
       "      <td>0.0</td>\n",
       "      <td>0.0</td>\n",
       "      <td>...</td>\n",
       "      <td>0.000000</td>\n",
       "      <td>0.000000</td>\n",
       "      <td>0.000000</td>\n",
       "      <td>0.000000</td>\n",
       "      <td>0.000000</td>\n",
       "      <td>0.000000</td>\n",
       "      <td>0.0</td>\n",
       "      <td>0.0</td>\n",
       "      <td>0.0</td>\n",
       "      <td>0.0</td>\n",
       "    </tr>\n",
       "    <tr>\n",
       "      <th>75%</th>\n",
       "      <td>0.0</td>\n",
       "      <td>0.0</td>\n",
       "      <td>0.0</td>\n",
       "      <td>0.0</td>\n",
       "      <td>0.0</td>\n",
       "      <td>0.0</td>\n",
       "      <td>0.0</td>\n",
       "      <td>0.0</td>\n",
       "      <td>0.0</td>\n",
       "      <td>0.0</td>\n",
       "      <td>...</td>\n",
       "      <td>0.000000</td>\n",
       "      <td>0.000000</td>\n",
       "      <td>0.000000</td>\n",
       "      <td>0.000000</td>\n",
       "      <td>0.000000</td>\n",
       "      <td>0.000000</td>\n",
       "      <td>0.0</td>\n",
       "      <td>0.0</td>\n",
       "      <td>0.0</td>\n",
       "      <td>0.0</td>\n",
       "    </tr>\n",
       "    <tr>\n",
       "      <th>max</th>\n",
       "      <td>0.0</td>\n",
       "      <td>0.0</td>\n",
       "      <td>0.0</td>\n",
       "      <td>0.0</td>\n",
       "      <td>0.0</td>\n",
       "      <td>0.0</td>\n",
       "      <td>0.0</td>\n",
       "      <td>0.0</td>\n",
       "      <td>0.0</td>\n",
       "      <td>0.0</td>\n",
       "      <td>...</td>\n",
       "      <td>254.000000</td>\n",
       "      <td>254.000000</td>\n",
       "      <td>253.000000</td>\n",
       "      <td>253.000000</td>\n",
       "      <td>254.000000</td>\n",
       "      <td>62.000000</td>\n",
       "      <td>0.0</td>\n",
       "      <td>0.0</td>\n",
       "      <td>0.0</td>\n",
       "      <td>0.0</td>\n",
       "    </tr>\n",
       "  </tbody>\n",
       "</table>\n",
       "<p>8 rows × 784 columns</p>\n",
       "</div>"
      ],
      "text/plain": [
       "        pixel0   pixel1   pixel2   pixel3   pixel4   pixel5   pixel6   pixel7  \\\n",
       "count  33600.0  33600.0  33600.0  33600.0  33600.0  33600.0  33600.0  33600.0   \n",
       "mean       0.0      0.0      0.0      0.0      0.0      0.0      0.0      0.0   \n",
       "std        0.0      0.0      0.0      0.0      0.0      0.0      0.0      0.0   \n",
       "min        0.0      0.0      0.0      0.0      0.0      0.0      0.0      0.0   \n",
       "25%        0.0      0.0      0.0      0.0      0.0      0.0      0.0      0.0   \n",
       "50%        0.0      0.0      0.0      0.0      0.0      0.0      0.0      0.0   \n",
       "75%        0.0      0.0      0.0      0.0      0.0      0.0      0.0      0.0   \n",
       "max        0.0      0.0      0.0      0.0      0.0      0.0      0.0      0.0   \n",
       "\n",
       "        pixel8   pixel9  ...      pixel774      pixel775      pixel776  \\\n",
       "count  33600.0  33600.0  ...  33600.000000  33600.000000  33600.000000   \n",
       "mean       0.0      0.0  ...      0.227827      0.130268      0.064226   \n",
       "std        0.0      0.0  ...      6.578347      4.818621      3.437205   \n",
       "min        0.0      0.0  ...      0.000000      0.000000      0.000000   \n",
       "25%        0.0      0.0  ...      0.000000      0.000000      0.000000   \n",
       "50%        0.0      0.0  ...      0.000000      0.000000      0.000000   \n",
       "75%        0.0      0.0  ...      0.000000      0.000000      0.000000   \n",
       "max        0.0      0.0  ...    254.000000    254.000000    253.000000   \n",
       "\n",
       "           pixel777      pixel778      pixel779  pixel780  pixel781  pixel782  \\\n",
       "count  33600.000000  33600.000000  33600.000000   33600.0   33600.0   33600.0   \n",
       "mean       0.021429      0.021548      0.003571       0.0       0.0       0.0   \n",
       "std        1.839529      2.118097      0.463160       0.0       0.0       0.0   \n",
       "min        0.000000      0.000000      0.000000       0.0       0.0       0.0   \n",
       "25%        0.000000      0.000000      0.000000       0.0       0.0       0.0   \n",
       "50%        0.000000      0.000000      0.000000       0.0       0.0       0.0   \n",
       "75%        0.000000      0.000000      0.000000       0.0       0.0       0.0   \n",
       "max      253.000000    254.000000     62.000000       0.0       0.0       0.0   \n",
       "\n",
       "       pixel783  \n",
       "count   33600.0  \n",
       "mean        0.0  \n",
       "std         0.0  \n",
       "min         0.0  \n",
       "25%         0.0  \n",
       "50%         0.0  \n",
       "75%         0.0  \n",
       "max         0.0  \n",
       "\n",
       "[8 rows x 784 columns]"
      ]
     },
     "execution_count": 75,
     "metadata": {},
     "output_type": "execute_result"
    }
   ],
   "source": [
    "X_train.describe()"
   ]
  },
  {
   "cell_type": "code",
   "execution_count": 76,
   "id": "673d4aeb",
   "metadata": {},
   "outputs": [],
   "source": [
    "description = X_train.describe()"
   ]
  },
  {
   "cell_type": "code",
   "execution_count": 78,
   "id": "8834dbde",
   "metadata": {},
   "outputs": [
    {
     "data": {
      "text/plain": [
       "array([[0.0000e+00, 0.0000e+00, 0.0000e+00, 0.0000e+00, 0.0000e+00,\n",
       "        0.0000e+00, 0.0000e+00, 0.0000e+00, 0.0000e+00, 0.0000e+00,\n",
       "        0.0000e+00, 0.0000e+00, 0.0000e+00, 1.0000e-02, 0.0000e+00,\n",
       "        0.0000e+00, 0.0000e+00, 0.0000e+00, 0.0000e+00, 0.0000e+00,\n",
       "        0.0000e+00, 0.0000e+00, 0.0000e+00, 0.0000e+00, 0.0000e+00,\n",
       "        0.0000e+00, 0.0000e+00, 0.0000e+00],\n",
       "       [0.0000e+00, 0.0000e+00, 0.0000e+00, 0.0000e+00, 0.0000e+00,\n",
       "        0.0000e+00, 1.0000e-02, 3.0000e-02, 4.0000e-02, 6.0000e-02,\n",
       "        1.2000e-01, 1.7000e-01, 1.9000e-01, 2.0000e-01, 2.0000e-01,\n",
       "        1.8000e-01, 1.6000e-01, 1.2000e-01, 9.0000e-02, 6.0000e-02,\n",
       "        4.0000e-02, 2.0000e-02, 1.0000e-02, 1.0000e-02, 0.0000e+00,\n",
       "        0.0000e+00, 0.0000e+00, 0.0000e+00],\n",
       "       [0.0000e+00, 0.0000e+00, 0.0000e+00, 0.0000e+00, 1.0000e-02,\n",
       "        1.0000e-02, 7.0000e-02, 1.7000e-01, 3.2000e-01, 5.4000e-01,\n",
       "        8.3000e-01, 1.3000e+00, 1.9800e+00, 2.7200e+00, 3.4400e+00,\n",
       "        3.8100e+00, 3.7200e+00, 3.3300e+00, 2.7200e+00, 1.9900e+00,\n",
       "        1.2100e+00, 6.1000e-01, 2.9000e-01, 9.0000e-02, 3.0000e-02,\n",
       "        1.0000e-02, 0.0000e+00, 0.0000e+00],\n",
       "       [0.0000e+00, 0.0000e+00, 0.0000e+00, 0.0000e+00, 2.0000e-02,\n",
       "        9.0000e-02, 2.2000e-01, 5.3000e-01, 1.2100e+00, 2.3200e+00,\n",
       "        3.7400e+00, 5.6600e+00, 7.6100e+00, 9.8400e+00, 1.1830e+01,\n",
       "        1.3160e+01, 1.2920e+01, 1.1500e+01, 9.3400e+00, 6.8000e+00,\n",
       "        4.1400e+00, 2.2600e+00, 1.0800e+00, 4.2000e-01, 1.6000e-01,\n",
       "        3.0000e-02, 0.0000e+00, 0.0000e+00],\n",
       "       [0.0000e+00, 0.0000e+00, 0.0000e+00, 1.0000e-02, 9.0000e-02,\n",
       "        4.0000e-01, 1.0500e+00, 2.4800e+00, 4.9600e+00, 8.6400e+00,\n",
       "        1.3740e+01, 2.0160e+01, 2.7760e+01, 3.5850e+01, 4.2360e+01,\n",
       "        4.5720e+01, 4.4330e+01, 3.9000e+01, 3.1220e+01, 2.2970e+01,\n",
       "        1.4830e+01, 8.7700e+00, 4.5800e+00, 2.1400e+00, 8.9000e-01,\n",
       "        2.1000e-01, 4.0000e-02, 0.0000e+00],\n",
       "       [0.0000e+00, 0.0000e+00, 1.0000e-02, 4.0000e-02, 4.0000e-01,\n",
       "        1.4800e+00, 3.5500e+00, 7.1200e+00, 1.2860e+01, 2.1300e+01,\n",
       "        3.2050e+01, 4.5210e+01, 6.0010e+01, 7.4920e+01, 8.6160e+01,\n",
       "        9.1530e+01, 8.9620e+01, 8.0660e+01, 6.6140e+01, 4.9670e+01,\n",
       "        3.4510e+01, 2.1830e+01, 1.2510e+01, 6.4300e+00, 2.9100e+00,\n",
       "        7.5000e-01, 1.2000e-01, 0.0000e+00],\n",
       "       [0.0000e+00, 0.0000e+00, 3.0000e-02, 2.4000e-01, 1.1600e+00,\n",
       "        3.2800e+00, 7.3500e+00, 1.4050e+01, 2.4040e+01, 3.7680e+01,\n",
       "        5.3870e+01, 7.2120e+01, 9.0650e+01, 1.0777e+02, 1.2005e+02,\n",
       "        1.2512e+02, 1.2212e+02, 1.1193e+02, 9.5640e+01, 7.4600e+01,\n",
       "        5.3960e+01, 3.5360e+01, 2.0990e+01, 1.1210e+01, 5.2300e+00,\n",
       "        1.6800e+00, 3.5000e-01, 2.0000e-02],\n",
       "       [0.0000e+00, 2.0000e-02, 1.2000e-01, 6.8000e-01, 2.5400e+00,\n",
       "        6.0000e+00, 1.2350e+01, 2.2240e+01, 3.6410e+01, 5.4580e+01,\n",
       "        7.4770e+01, 9.5530e+01, 1.1336e+02, 1.2689e+02, 1.3411e+02,\n",
       "        1.3565e+02, 1.3273e+02, 1.2571e+02, 1.1238e+02, 9.2540e+01,\n",
       "        6.8960e+01, 4.6300e+01, 2.7740e+01, 1.4790e+01, 6.7200e+00,\n",
       "        2.2800e+00, 4.7000e-01, 2.0000e-02],\n",
       "       [0.0000e+00, 8.0000e-02, 4.0000e-01, 1.4500e+00, 4.0800e+00,\n",
       "        8.7700e+00, 1.6980e+01, 2.9640e+01, 4.7370e+01, 6.9000e+01,\n",
       "        9.1990e+01, 1.1042e+02, 1.2102e+02, 1.2413e+02, 1.2315e+02,\n",
       "        1.2158e+02, 1.2167e+02, 1.2120e+02, 1.1565e+02, 9.9900e+01,\n",
       "        7.6670e+01, 5.2100e+01, 3.1280e+01, 1.6000e+01, 6.9300e+00,\n",
       "        2.4500e+00, 4.4000e-01, 2.0000e-02],\n",
       "       [1.0000e-02, 1.1000e-01, 5.5000e-01, 1.8400e+00, 4.6600e+00,\n",
       "        9.8900e+00, 1.9570e+01, 3.4430e+01, 5.5460e+01, 7.9730e+01,\n",
       "        1.0102e+02, 1.1214e+02, 1.1129e+02, 1.0406e+02, 9.8290e+01,\n",
       "        9.8390e+01, 1.0353e+02, 1.1044e+02, 1.1108e+02, 9.9090e+01,\n",
       "        7.6840e+01, 5.2250e+01, 3.0900e+01, 1.5060e+01, 5.9100e+00,\n",
       "        1.8600e+00, 3.1000e-01, 3.0000e-02],\n",
       "       [2.0000e-02, 1.0000e-01, 5.3000e-01, 1.7400e+00, 4.2900e+00,\n",
       "        9.8400e+00, 2.0430e+01, 3.7100e+01, 6.0600e+01, 8.5070e+01,\n",
       "        1.0195e+02, 1.0388e+02, 9.3210e+01, 8.1870e+01, 7.8740e+01,\n",
       "        8.3740e+01, 9.3750e+01, 1.0457e+02, 1.0677e+02, 9.4220e+01,\n",
       "        7.1520e+01, 4.7900e+01, 2.8080e+01, 1.3450e+01, 4.6400e+00,\n",
       "        1.1800e+00, 2.4000e-01, 4.0000e-02],\n",
       "       [0.0000e+00, 7.0000e-02, 4.4000e-01, 1.3200e+00, 3.5400e+00,\n",
       "        9.4400e+00, 2.0940e+01, 3.9850e+01, 6.5080e+01, 8.8500e+01,\n",
       "        9.9860e+01, 9.5080e+01, 8.1250e+01, 7.3030e+01, 7.5990e+01,\n",
       "        8.5630e+01, 9.8010e+01, 1.0837e+02, 1.0596e+02, 8.8670e+01,\n",
       "        6.4570e+01, 4.2470e+01, 2.5360e+01, 1.2560e+01, 4.1000e+00,\n",
       "        6.6000e-01, 1.5000e-01, 1.0000e-02],\n",
       "       [0.0000e+00, 4.0000e-02, 2.8000e-01, 9.4000e-01, 2.9500e+00,\n",
       "        9.4200e+00, 2.2580e+01, 4.3930e+01, 6.9470e+01, 9.1120e+01,\n",
       "        9.8770e+01, 9.1460e+01, 7.9920e+01, 7.9900e+01, 8.9600e+01,\n",
       "        1.0216e+02, 1.1419e+02, 1.1876e+02, 1.0778e+02, 8.3910e+01,\n",
       "        5.7970e+01, 3.8220e+01, 2.4060e+01, 1.2850e+01, 4.3800e+00,\n",
       "        4.8000e-01, 8.0000e-02, 1.0000e-02],\n",
       "       [0.0000e+00, 2.0000e-02, 1.4000e-01, 6.4000e-01, 2.7800e+00,\n",
       "        1.0510e+01, 2.5460e+01, 4.7740e+01, 7.2790e+01, 9.1760e+01,\n",
       "        9.7180e+01, 9.1440e+01, 8.7160e+01, 9.7180e+01, 1.1154e+02,\n",
       "        1.2451e+02, 1.3074e+02, 1.2760e+02, 1.0927e+02, 8.0870e+01,\n",
       "        5.4990e+01, 3.7410e+01, 2.4350e+01, 1.3880e+01, 5.2000e+00,\n",
       "        6.2000e-01, 8.0000e-02, 1.0000e-02],\n",
       "       [0.0000e+00, 1.0000e-02, 5.0000e-02, 4.4000e-01, 2.9200e+00,\n",
       "        1.2300e+01, 2.8280e+01, 5.0340e+01, 7.3550e+01, 8.9810e+01,\n",
       "        9.4700e+01, 9.2930e+01, 9.7350e+01, 1.1526e+02, 1.3029e+02,\n",
       "        1.4008e+02, 1.3761e+02, 1.2872e+02, 1.0755e+02, 7.9710e+01,\n",
       "        5.6380e+01, 3.9300e+01, 2.5910e+01, 1.4890e+01, 5.8400e+00,\n",
       "        8.3000e-01, 7.0000e-02, 0.0000e+00],\n",
       "       [0.0000e+00, 0.0000e+00, 4.0000e-02, 5.1000e-01, 3.5000e+00,\n",
       "        1.4280e+01, 3.0520e+01, 5.0740e+01, 7.1180e+01, 8.5350e+01,\n",
       "        9.0840e+01, 9.3870e+01, 1.0476e+02, 1.2319e+02, 1.3573e+02,\n",
       "        1.3928e+02, 1.3221e+02, 1.2197e+02, 1.0203e+02, 7.9130e+01,\n",
       "        5.9000e+01, 4.1790e+01, 2.7270e+01, 1.5080e+01, 5.8400e+00,\n",
       "        1.0400e+00, 1.3000e-01, 1.0000e-02],\n",
       "       [0.0000e+00, 0.0000e+00, 8.0000e-02, 7.1000e-01, 4.4700e+00,\n",
       "        1.6260e+01, 3.2060e+01, 4.9710e+01, 6.6600e+01, 7.8090e+01,\n",
       "        8.3800e+01, 8.9200e+01, 1.0059e+02, 1.1527e+02, 1.2607e+02,\n",
       "        1.2756e+02, 1.2142e+02, 1.1131e+02, 9.5870e+01, 7.8490e+01,\n",
       "        6.0710e+01, 4.2640e+01, 2.7110e+01, 1.4240e+01, 5.4900e+00,\n",
       "        1.2100e+00, 1.9000e-01, 2.0000e-02],\n",
       "       [0.0000e+00, 0.0000e+00, 1.2000e-01, 1.0200e+00, 5.9600e+00,\n",
       "        1.8100e+01, 3.3230e+01, 4.8120e+01, 6.0950e+01, 6.9520e+01,\n",
       "        7.4720e+01, 8.0400e+01, 8.8790e+01, 1.0074e+02, 1.1185e+02,\n",
       "        1.1551e+02, 1.1282e+02, 1.0518e+02, 9.3420e+01, 7.8620e+01,\n",
       "        6.0490e+01, 4.1560e+01, 2.5240e+01, 1.2730e+01, 5.0200e+00,\n",
       "        1.3500e+00, 2.1000e-01, 2.0000e-02],\n",
       "       [0.0000e+00, 1.0000e-02, 1.8000e-01, 1.5600e+00, 7.5800e+00,\n",
       "        2.0160e+01, 3.4750e+01, 4.8370e+01, 5.8600e+01, 6.5750e+01,\n",
       "        7.1240e+01, 7.5990e+01, 8.2160e+01, 9.3590e+01, 1.0574e+02,\n",
       "        1.1255e+02, 1.1236e+02, 1.0628e+02, 9.4640e+01, 7.7960e+01,\n",
       "        5.7820e+01, 3.8530e+01, 2.2640e+01, 1.1190e+01, 4.5000e+00,\n",
       "        1.3000e+00, 1.6000e-01, 1.0000e-02],\n",
       "       [0.0000e+00, 1.0000e-02, 2.9000e-01, 2.0800e+00, 8.6800e+00,\n",
       "        2.1630e+01, 3.7050e+01, 5.1220e+01, 6.2770e+01, 7.1150e+01,\n",
       "        7.7400e+01, 8.1740e+01, 8.8790e+01, 9.9740e+01, 1.1220e+02,\n",
       "        1.1863e+02, 1.1734e+02, 1.0879e+02, 9.3480e+01, 7.3030e+01,\n",
       "        5.1960e+01, 3.3480e+01, 1.8980e+01, 9.0800e+00, 3.5100e+00,\n",
       "        1.0400e+00, 1.5000e-01, 0.0000e+00],\n",
       "       [0.0000e+00, 1.0000e-02, 3.2000e-01, 2.3200e+00, 8.5900e+00,\n",
       "        2.0740e+01, 3.7220e+01, 5.4200e+01, 6.9430e+01, 8.1550e+01,\n",
       "        9.0370e+01, 9.7430e+01, 1.0586e+02, 1.1664e+02, 1.2546e+02,\n",
       "        1.2661e+02, 1.1967e+02, 1.0515e+02, 8.4930e+01, 6.2120e+01,\n",
       "        4.1610e+01, 2.5390e+01, 1.3640e+01, 6.4600e+00, 2.6100e+00,\n",
       "        7.4000e-01, 1.0000e-01, 0.0000e+00],\n",
       "       [0.0000e+00, 1.0000e-02, 2.6000e-01, 1.8800e+00, 6.7300e+00,\n",
       "        1.6990e+01, 3.2820e+01, 5.1870e+01, 7.0930e+01, 8.7960e+01,\n",
       "        1.0144e+02, 1.1240e+02, 1.2246e+02, 1.3066e+02, 1.3276e+02,\n",
       "        1.2602e+02, 1.1148e+02, 9.0720e+01, 6.7460e+01, 4.6130e+01,\n",
       "        2.8860e+01, 1.6260e+01, 8.4500e+00, 4.1300e+00, 1.6100e+00,\n",
       "        4.3000e-01, 7.0000e-02, 0.0000e+00],\n",
       "       [0.0000e+00, 0.0000e+00, 1.4000e-01, 1.1500e+00, 3.9900e+00,\n",
       "        1.0920e+01, 2.3350e+01, 4.0390e+01, 6.1010e+01, 8.1150e+01,\n",
       "        9.9320e+01, 1.1300e+02, 1.2261e+02, 1.2584e+02, 1.2153e+02,\n",
       "        1.0814e+02, 8.8950e+01, 6.6880e+01, 4.5750e+01, 2.8960e+01,\n",
       "        1.6790e+01, 9.0000e+00, 4.5900e+00, 2.0700e+00, 7.7000e-01,\n",
       "        1.9000e-01, 3.0000e-02, 0.0000e+00],\n",
       "       [0.0000e+00, 0.0000e+00, 5.0000e-02, 4.7000e-01, 1.7800e+00,\n",
       "        4.9900e+00, 1.1980e+01, 2.3660e+01, 3.9890e+01, 5.8450e+01,\n",
       "        7.6690e+01, 9.1750e+01, 9.9990e+01, 9.9850e+01, 9.1490e+01,\n",
       "        7.6590e+01, 5.8550e+01, 4.0960e+01, 2.5970e+01, 1.5340e+01,\n",
       "        8.4600e+00, 4.3600e+00, 2.1300e+00, 9.6000e-01, 2.9000e-01,\n",
       "        7.0000e-02, 1.0000e-02, 0.0000e+00],\n",
       "       [0.0000e+00, 0.0000e+00, 2.0000e-02, 1.6000e-01, 5.6000e-01,\n",
       "        1.5900e+00, 4.1000e+00, 8.7900e+00, 1.6220e+01, 2.6240e+01,\n",
       "        3.7010e+01, 4.6160e+01, 5.1210e+01, 5.1280e+01, 4.6160e+01,\n",
       "        3.7470e+01, 2.8320e+01, 1.9750e+01, 1.2400e+01, 7.3600e+00,\n",
       "        3.9900e+00, 2.0100e+00, 9.5000e-01, 4.2000e-01, 1.1000e-01,\n",
       "        2.0000e-02, 0.0000e+00, 0.0000e+00],\n",
       "       [0.0000e+00, 0.0000e+00, 0.0000e+00, 3.0000e-02, 1.7000e-01,\n",
       "        4.8000e-01, 1.3000e+00, 2.9400e+00, 5.7200e+00, 9.2900e+00,\n",
       "        1.3320e+01, 1.6390e+01, 1.7980e+01, 1.7840e+01, 1.6080e+01,\n",
       "        1.3720e+01, 1.1010e+01, 8.1700e+00, 5.4100e+00, 3.2400e+00,\n",
       "        1.7800e+00, 8.6000e-01, 3.8000e-01, 1.5000e-01, 3.0000e-02,\n",
       "        1.0000e-02, 0.0000e+00, 0.0000e+00],\n",
       "       [0.0000e+00, 0.0000e+00, 0.0000e+00, 0.0000e+00, 3.0000e-02,\n",
       "        1.5000e-01, 5.1000e-01, 1.1100e+00, 2.0800e+00, 3.1500e+00,\n",
       "        4.6200e+00, 6.0000e+00, 6.6100e+00, 6.4600e+00, 5.6500e+00,\n",
       "        4.6700e+00, 3.8800e+00, 2.8100e+00, 1.8200e+00, 1.1300e+00,\n",
       "        6.0000e-01, 2.5000e-01, 1.0000e-01, 3.0000e-02, 0.0000e+00,\n",
       "        0.0000e+00, 0.0000e+00, 0.0000e+00],\n",
       "       [0.0000e+00, 0.0000e+00, 0.0000e+00, 0.0000e+00, 0.0000e+00,\n",
       "        1.0000e-02, 3.0000e-02, 7.0000e-02, 1.0000e-01, 1.8000e-01,\n",
       "        3.2000e-01, 4.2000e-01, 5.0000e-01, 5.2000e-01, 6.5000e-01,\n",
       "        6.0000e-01, 5.1000e-01, 3.4000e-01, 2.3000e-01, 1.3000e-01,\n",
       "        6.0000e-02, 2.0000e-02, 2.0000e-02, 0.0000e+00, 0.0000e+00,\n",
       "        0.0000e+00, 0.0000e+00, 0.0000e+00]])"
      ]
     },
     "execution_count": 78,
     "metadata": {},
     "output_type": "execute_result"
    }
   ],
   "source": [
    "description.loc['mean'].values.reshape(28, 28).round(2)"
   ]
  },
  {
   "cell_type": "code",
   "execution_count": 79,
   "id": "4aa274a8",
   "metadata": {},
   "outputs": [
    {
     "data": {
      "text/plain": [
       "<AxesSubplot: >"
      ]
     },
     "execution_count": 79,
     "metadata": {},
     "output_type": "execute_result"
    },
    {
     "data": {
      "image/png": "[encoded data removed]",
      "text/plain": [
       "<Figure size 1170x827 with 2 Axes>"
      ]
     },
     "metadata": {},
     "output_type": "display_data"
    }
   ],
   "source": [
    "sns.heatmap(pd.DataFrame(description.loc['mean'].values.reshape(28, 28).round(2)))"
   ]
  },
  {
   "cell_type": "code",
   "execution_count": 80,
   "id": "d25eadeb",
   "metadata": {},
   "outputs": [
    {
     "data": {
      "text/plain": [
       "<AxesSubplot: >"
      ]
     },
     "execution_count": 80,
     "metadata": {},
     "output_type": "execute_result"
    },
    {
     "data": {
      "image/png": "[encoded data removed]",
      "text/plain": [
       "<Figure size 1170x827 with 2 Axes>"
      ]
     },
     "metadata": {},
     "output_type": "display_data"
    }
   ],
   "source": [
    "sns.heatmap(pd.DataFrame(description.loc['std'].values.reshape(28, 28).round(2)))"
   ]
  },
  {
   "cell_type": "code",
   "execution_count": 81,
   "id": "6016b0b9",
   "metadata": {},
   "outputs": [],
   "source": [
    "from sklearn.feature_selection import VarianceThreshold"
   ]
  },
  {
   "cell_type": "code",
   "execution_count": 82,
   "id": "26437f0b",
   "metadata": {},
   "outputs": [
    {
     "data": {
      "text/html": [
       "<style>#sk-container-id-7 {color: black;background-color: white;}#sk-container-id-7 pre{padding: 0;}#sk-container-id-7 div.sk-toggleable {background-color: white;}#sk-container-id-7 label.sk-toggleable__label {cursor: pointer;display: block;width: 100%;margin-bottom: 0;padding: 0.3em;box-sizing: border-box;text-align: center;}#sk-container-id-7 label.sk-toggleable__label-arrow:before {content: \"▸\";float: left;margin-right: 0.25em;color: #696969;}#sk-container-id-7 label.sk-toggleable__label-arrow:hover:before {color: black;}#sk-container-id-7 div.sk-estimator:hover label.sk-toggleable__label-arrow:before {color: black;}#sk-container-id-7 div.sk-toggleable__content {max-height: 0;max-width: 0;overflow: hidden;text-align: left;background-color: #f0f8ff;}#sk-container-id-7 div.sk-toggleable__content pre {margin: 0.2em;color: black;border-radius: 0.25em;background-color: #f0f8ff;}#sk-container-id-7 input.sk-toggleable__control:checked~div.sk-toggleable__content {max-height: 200px;max-width: 100%;overflow: auto;}#sk-container-id-7 input.sk-toggleable__control:checked~label.sk-toggleable__label-arrow:before {content: \"▾\";}#sk-container-id-7 div.sk-estimator input.sk-toggleable__control:checked~label.sk-toggleable__label {background-color: #d4ebff;}#sk-container-id-7 div.sk-label input.sk-toggleable__control:checked~label.sk-toggleable__label {background-color: #d4ebff;}#sk-container-id-7 input.sk-hidden--visually {border: 0;clip: rect(1px 1px 1px 1px);clip: rect(1px, 1px, 1px, 1px);height: 1px;margin: -1px;overflow: hidden;padding: 0;position: absolute;width: 1px;}#sk-container-id-7 div.sk-estimator {font-family: monospace;background-color: #f0f8ff;border: 1px dotted black;border-radius: 0.25em;box-sizing: border-box;margin-bottom: 0.5em;}#sk-container-id-7 div.sk-estimator:hover {background-color: #d4ebff;}#sk-container-id-7 div.sk-parallel-item::after {content: \"\";width: 100%;border-bottom: 1px solid gray;flex-grow: 1;}#sk-container-id-7 div.sk-label:hover label.sk-toggleable__label {background-color: #d4ebff;}#sk-container-id-7 div.sk-serial::before {content: \"\";position: absolute;border-left: 1px solid gray;box-sizing: border-box;top: 0;bottom: 0;left: 50%;z-index: 0;}#sk-container-id-7 div.sk-serial {display: flex;flex-direction: column;align-items: center;background-color: white;padding-right: 0.2em;padding-left: 0.2em;position: relative;}#sk-container-id-7 div.sk-item {position: relative;z-index: 1;}#sk-container-id-7 div.sk-parallel {display: flex;align-items: stretch;justify-content: center;background-color: white;position: relative;}#sk-container-id-7 div.sk-item::before, #sk-container-id-7 div.sk-parallel-item::before {content: \"\";position: absolute;border-left: 1px solid gray;box-sizing: border-box;top: 0;bottom: 0;left: 50%;z-index: -1;}#sk-container-id-7 div.sk-parallel-item {display: flex;flex-direction: column;z-index: 1;position: relative;background-color: white;}#sk-container-id-7 div.sk-parallel-item:first-child::after {align-self: flex-end;width: 50%;}#sk-container-id-7 div.sk-parallel-item:last-child::after {align-self: flex-start;width: 50%;}#sk-container-id-7 div.sk-parallel-item:only-child::after {width: 0;}#sk-container-id-7 div.sk-dashed-wrapped {border: 1px dashed gray;margin: 0 0.4em 0.5em 0.4em;box-sizing: border-box;padding-bottom: 0.4em;background-color: white;}#sk-container-id-7 div.sk-label label {font-family: monospace;font-weight: bold;display: inline-block;line-height: 1.2em;}#sk-container-id-7 div.sk-label-container {text-align: center;}#sk-container-id-7 div.sk-container {/* jupyter's `normalize.less` sets `[hidden] { display: none; }` but bootstrap.min.css set `[hidden] { display: none !important; }` so we also need the `!important` here to be able to override the default hidden behavior on the sphinx rendered scikit-learn.org. See: https://github.com/scikit-learn/scikit-learn/issues/21755 */display: inline-block !important;position: relative;}#sk-container-id-7 div.sk-text-repr-fallback {display: none;}</style><div id=\"sk-container-id-7\" class=\"sk-top-container\"><div class=\"sk-text-repr-fallback\"><pre>VarianceThreshold(threshold=0)</pre><b>In a Jupyter environment, please rerun this cell to show the HTML representation or trust the notebook. <br />On GitHub, the HTML representation is unable to render, please try loading this page with nbviewer.org.</b></div><div class=\"sk-container\" hidden><div class=\"sk-item\"><div class=\"sk-estimator sk-toggleable\"><input class=\"sk-toggleable__control sk-hidden--visually\" id=\"sk-estimator-id-7\" type=\"checkbox\" checked><label for=\"sk-estimator-id-7\" class=\"sk-toggleable__label sk-toggleable__label-arrow\">VarianceThreshold</label><div class=\"sk-toggleable__content\"><pre>VarianceThreshold(threshold=0)</pre></div></div></div></div></div>"
      ],
      "text/plain": [
       "VarianceThreshold(threshold=0)"
      ]
     },
     "execution_count": 82,
     "metadata": {},
     "output_type": "execute_result"
    }
   ],
   "source": [
    "selector = VarianceThreshold(threshold=0)\n",
    "selector.fit(X_train)"
   ]
  },
  {
   "cell_type": "code",
   "execution_count": 83,
   "id": "b343f7a8",
   "metadata": {},
   "outputs": [
    {
     "data": {
      "text/plain": [
       "784"
      ]
     },
     "execution_count": 83,
     "metadata": {},
     "output_type": "execute_result"
    }
   ],
   "source": [
    "len(X_train.columns)"
   ]
  },
  {
   "cell_type": "code",
   "execution_count": 85,
   "id": "b120df11",
   "metadata": {},
   "outputs": [
    {
     "data": {
      "text/plain": [
       "697"
      ]
     },
     "execution_count": 85,
     "metadata": {},
     "output_type": "execute_result"
    }
   ],
   "source": [
    "len(selector.transform(X_train)[0])"
   ]
  },
  {
   "cell_type": "code",
   "execution_count": 86,
   "id": "74869df3",
   "metadata": {},
   "outputs": [
    {
     "data": {
      "text/plain": [
       "697"
      ]
     },
     "execution_count": 86,
     "metadata": {},
     "output_type": "execute_result"
    }
   ],
   "source": [
    "len(selector.get_feature_names_out())"
   ]
  },
  {
   "cell_type": "code",
   "execution_count": 87,
   "id": "f449c538",
   "metadata": {},
   "outputs": [],
   "source": [
    "X_train = X_train[selector.get_feature_names_out()]"
   ]
  },
  {
   "cell_type": "code",
   "execution_count": 88,
   "id": "ca5bb36d",
   "metadata": {},
   "outputs": [
    {
     "data": {
      "text/html": [
       "<div>\n",
       "<style scoped>\n",
       "    .dataframe tbody tr th:only-of-type {\n",
       "        vertical-align: middle;\n",
       "    }\n",
       "\n",
       "    .dataframe tbody tr th {\n",
       "        vertical-align: top;\n",
       "    }\n",
       "\n",
       "    .dataframe thead th {\n",
       "        text-align: right;\n",
       "    }\n",
       "</style>\n",
       "<table border=\"1\" class=\"dataframe\">\n",
       "  <thead>\n",
       "    <tr style=\"text-align: right;\">\n",
       "      <th></th>\n",
       "      <th>pixel12</th>\n",
       "      <th>pixel13</th>\n",
       "      <th>pixel33</th>\n",
       "      <th>pixel34</th>\n",
       "      <th>pixel35</th>\n",
       "      <th>pixel36</th>\n",
       "      <th>pixel37</th>\n",
       "      <th>pixel38</th>\n",
       "      <th>pixel39</th>\n",
       "      <th>pixel40</th>\n",
       "      <th>...</th>\n",
       "      <th>pixel770</th>\n",
       "      <th>pixel771</th>\n",
       "      <th>pixel772</th>\n",
       "      <th>pixel773</th>\n",
       "      <th>pixel774</th>\n",
       "      <th>pixel775</th>\n",
       "      <th>pixel776</th>\n",
       "      <th>pixel777</th>\n",
       "      <th>pixel778</th>\n",
       "      <th>pixel779</th>\n",
       "    </tr>\n",
       "  </thead>\n",
       "  <tbody>\n",
       "    <tr>\n",
       "      <th>39317</th>\n",
       "      <td>0</td>\n",
       "      <td>0</td>\n",
       "      <td>0</td>\n",
       "      <td>0</td>\n",
       "      <td>0</td>\n",
       "      <td>0</td>\n",
       "      <td>0</td>\n",
       "      <td>0</td>\n",
       "      <td>0</td>\n",
       "      <td>0</td>\n",
       "      <td>...</td>\n",
       "      <td>0</td>\n",
       "      <td>0</td>\n",
       "      <td>0</td>\n",
       "      <td>0</td>\n",
       "      <td>0</td>\n",
       "      <td>0</td>\n",
       "      <td>0</td>\n",
       "      <td>0</td>\n",
       "      <td>0</td>\n",
       "      <td>0</td>\n",
       "    </tr>\n",
       "    <tr>\n",
       "      <th>32837</th>\n",
       "      <td>0</td>\n",
       "      <td>0</td>\n",
       "      <td>0</td>\n",
       "      <td>0</td>\n",
       "      <td>0</td>\n",
       "      <td>0</td>\n",
       "      <td>0</td>\n",
       "      <td>0</td>\n",
       "      <td>0</td>\n",
       "      <td>0</td>\n",
       "      <td>...</td>\n",
       "      <td>0</td>\n",
       "      <td>0</td>\n",
       "      <td>0</td>\n",
       "      <td>0</td>\n",
       "      <td>0</td>\n",
       "      <td>0</td>\n",
       "      <td>0</td>\n",
       "      <td>0</td>\n",
       "      <td>0</td>\n",
       "      <td>0</td>\n",
       "    </tr>\n",
       "    <tr>\n",
       "      <th>16644</th>\n",
       "      <td>0</td>\n",
       "      <td>0</td>\n",
       "      <td>0</td>\n",
       "      <td>0</td>\n",
       "      <td>0</td>\n",
       "      <td>0</td>\n",
       "      <td>0</td>\n",
       "      <td>0</td>\n",
       "      <td>0</td>\n",
       "      <td>0</td>\n",
       "      <td>...</td>\n",
       "      <td>0</td>\n",
       "      <td>0</td>\n",
       "      <td>0</td>\n",
       "      <td>0</td>\n",
       "      <td>0</td>\n",
       "      <td>0</td>\n",
       "      <td>0</td>\n",
       "      <td>0</td>\n",
       "      <td>0</td>\n",
       "      <td>0</td>\n",
       "    </tr>\n",
       "    <tr>\n",
       "      <th>20005</th>\n",
       "      <td>0</td>\n",
       "      <td>0</td>\n",
       "      <td>0</td>\n",
       "      <td>0</td>\n",
       "      <td>0</td>\n",
       "      <td>0</td>\n",
       "      <td>0</td>\n",
       "      <td>0</td>\n",
       "      <td>0</td>\n",
       "      <td>0</td>\n",
       "      <td>...</td>\n",
       "      <td>0</td>\n",
       "      <td>0</td>\n",
       "      <td>0</td>\n",
       "      <td>0</td>\n",
       "      <td>0</td>\n",
       "      <td>0</td>\n",
       "      <td>0</td>\n",
       "      <td>0</td>\n",
       "      <td>0</td>\n",
       "      <td>0</td>\n",
       "    </tr>\n",
       "    <tr>\n",
       "      <th>1533</th>\n",
       "      <td>0</td>\n",
       "      <td>0</td>\n",
       "      <td>0</td>\n",
       "      <td>0</td>\n",
       "      <td>0</td>\n",
       "      <td>0</td>\n",
       "      <td>0</td>\n",
       "      <td>0</td>\n",
       "      <td>0</td>\n",
       "      <td>0</td>\n",
       "      <td>...</td>\n",
       "      <td>0</td>\n",
       "      <td>0</td>\n",
       "      <td>0</td>\n",
       "      <td>0</td>\n",
       "      <td>0</td>\n",
       "      <td>0</td>\n",
       "      <td>0</td>\n",
       "      <td>0</td>\n",
       "      <td>0</td>\n",
       "      <td>0</td>\n",
       "    </tr>\n",
       "    <tr>\n",
       "      <th>...</th>\n",
       "      <td>...</td>\n",
       "      <td>...</td>\n",
       "      <td>...</td>\n",
       "      <td>...</td>\n",
       "      <td>...</td>\n",
       "      <td>...</td>\n",
       "      <td>...</td>\n",
       "      <td>...</td>\n",
       "      <td>...</td>\n",
       "      <td>...</td>\n",
       "      <td>...</td>\n",
       "      <td>...</td>\n",
       "      <td>...</td>\n",
       "      <td>...</td>\n",
       "      <td>...</td>\n",
       "      <td>...</td>\n",
       "      <td>...</td>\n",
       "      <td>...</td>\n",
       "      <td>...</td>\n",
       "      <td>...</td>\n",
       "      <td>...</td>\n",
       "    </tr>\n",
       "    <tr>\n",
       "      <th>41993</th>\n",
       "      <td>0</td>\n",
       "      <td>0</td>\n",
       "      <td>0</td>\n",
       "      <td>0</td>\n",
       "      <td>0</td>\n",
       "      <td>0</td>\n",
       "      <td>0</td>\n",
       "      <td>0</td>\n",
       "      <td>0</td>\n",
       "      <td>0</td>\n",
       "      <td>...</td>\n",
       "      <td>0</td>\n",
       "      <td>0</td>\n",
       "      <td>0</td>\n",
       "      <td>0</td>\n",
       "      <td>0</td>\n",
       "      <td>0</td>\n",
       "      <td>0</td>\n",
       "      <td>0</td>\n",
       "      <td>0</td>\n",
       "      <td>0</td>\n",
       "    </tr>\n",
       "    <tr>\n",
       "      <th>32103</th>\n",
       "      <td>0</td>\n",
       "      <td>0</td>\n",
       "      <td>0</td>\n",
       "      <td>0</td>\n",
       "      <td>0</td>\n",
       "      <td>0</td>\n",
       "      <td>0</td>\n",
       "      <td>0</td>\n",
       "      <td>0</td>\n",
       "      <td>0</td>\n",
       "      <td>...</td>\n",
       "      <td>0</td>\n",
       "      <td>0</td>\n",
       "      <td>0</td>\n",
       "      <td>0</td>\n",
       "      <td>0</td>\n",
       "      <td>0</td>\n",
       "      <td>0</td>\n",
       "      <td>0</td>\n",
       "      <td>0</td>\n",
       "      <td>0</td>\n",
       "    </tr>\n",
       "    <tr>\n",
       "      <th>30403</th>\n",
       "      <td>0</td>\n",
       "      <td>0</td>\n",
       "      <td>0</td>\n",
       "      <td>0</td>\n",
       "      <td>0</td>\n",
       "      <td>0</td>\n",
       "      <td>0</td>\n",
       "      <td>0</td>\n",
       "      <td>0</td>\n",
       "      <td>0</td>\n",
       "      <td>...</td>\n",
       "      <td>0</td>\n",
       "      <td>0</td>\n",
       "      <td>0</td>\n",
       "      <td>0</td>\n",
       "      <td>0</td>\n",
       "      <td>0</td>\n",
       "      <td>0</td>\n",
       "      <td>0</td>\n",
       "      <td>0</td>\n",
       "      <td>0</td>\n",
       "    </tr>\n",
       "    <tr>\n",
       "      <th>21243</th>\n",
       "      <td>0</td>\n",
       "      <td>0</td>\n",
       "      <td>0</td>\n",
       "      <td>0</td>\n",
       "      <td>0</td>\n",
       "      <td>0</td>\n",
       "      <td>0</td>\n",
       "      <td>0</td>\n",
       "      <td>0</td>\n",
       "      <td>0</td>\n",
       "      <td>...</td>\n",
       "      <td>0</td>\n",
       "      <td>0</td>\n",
       "      <td>0</td>\n",
       "      <td>0</td>\n",
       "      <td>0</td>\n",
       "      <td>0</td>\n",
       "      <td>0</td>\n",
       "      <td>0</td>\n",
       "      <td>0</td>\n",
       "      <td>0</td>\n",
       "    </tr>\n",
       "    <tr>\n",
       "      <th>2732</th>\n",
       "      <td>0</td>\n",
       "      <td>0</td>\n",
       "      <td>0</td>\n",
       "      <td>0</td>\n",
       "      <td>0</td>\n",
       "      <td>0</td>\n",
       "      <td>0</td>\n",
       "      <td>0</td>\n",
       "      <td>0</td>\n",
       "      <td>0</td>\n",
       "      <td>...</td>\n",
       "      <td>0</td>\n",
       "      <td>0</td>\n",
       "      <td>0</td>\n",
       "      <td>0</td>\n",
       "      <td>0</td>\n",
       "      <td>0</td>\n",
       "      <td>0</td>\n",
       "      <td>0</td>\n",
       "      <td>0</td>\n",
       "      <td>0</td>\n",
       "    </tr>\n",
       "  </tbody>\n",
       "</table>\n",
       "<p>33600 rows × 697 columns</p>\n",
       "</div>"
      ],
      "text/plain": [
       "       pixel12  pixel13  pixel33  pixel34  pixel35  pixel36  pixel37  pixel38  \\\n",
       "39317        0        0        0        0        0        0        0        0   \n",
       "32837        0        0        0        0        0        0        0        0   \n",
       "16644        0        0        0        0        0        0        0        0   \n",
       "20005        0        0        0        0        0        0        0        0   \n",
       "1533         0        0        0        0        0        0        0        0   \n",
       "...        ...      ...      ...      ...      ...      ...      ...      ...   \n",
       "41993        0        0        0        0        0        0        0        0   \n",
       "32103        0        0        0        0        0        0        0        0   \n",
       "30403        0        0        0        0        0        0        0        0   \n",
       "21243        0        0        0        0        0        0        0        0   \n",
       "2732         0        0        0        0        0        0        0        0   \n",
       "\n",
       "       pixel39  pixel40  ...  pixel770  pixel771  pixel772  pixel773  \\\n",
       "39317        0        0  ...         0         0         0         0   \n",
       "32837        0        0  ...         0         0         0         0   \n",
       "16644        0        0  ...         0         0         0         0   \n",
       "20005        0        0  ...         0         0         0         0   \n",
       "1533         0        0  ...         0         0         0         0   \n",
       "...        ...      ...  ...       ...       ...       ...       ...   \n",
       "41993        0        0  ...         0         0         0         0   \n",
       "32103        0        0  ...         0         0         0         0   \n",
       "30403        0        0  ...         0         0         0         0   \n",
       "21243        0        0  ...         0         0         0         0   \n",
       "2732         0        0  ...         0         0         0         0   \n",
       "\n",
       "       pixel774  pixel775  pixel776  pixel777  pixel778  pixel779  \n",
       "39317         0         0         0         0         0         0  \n",
       "32837         0         0         0         0         0         0  \n",
       "16644         0         0         0         0         0         0  \n",
       "20005         0         0         0         0         0         0  \n",
       "1533          0         0         0         0         0         0  \n",
       "...         ...       ...       ...       ...       ...       ...  \n",
       "41993         0         0         0         0         0         0  \n",
       "32103         0         0         0         0         0         0  \n",
       "30403         0         0         0         0         0         0  \n",
       "21243         0         0         0         0         0         0  \n",
       "2732          0         0         0         0         0         0  \n",
       "\n",
       "[33600 rows x 697 columns]"
      ]
     },
     "execution_count": 88,
     "metadata": {},
     "output_type": "execute_result"
    }
   ],
   "source": [
    "X_train"
   ]
  },
  {
   "cell_type": "markdown",
   "id": "4797d052",
   "metadata": {},
   "source": [
    "# Создание модели"
   ]
  },
  {
   "cell_type": "code",
   "execution_count": 161,
   "id": "9931e0be",
   "metadata": {},
   "outputs": [],
   "source": [
    "from sklearn.tree import DecisionTreeClassifier\n",
    "from sklearn.ensemble import RandomForestClassifier"
   ]
  },
  {
   "cell_type": "code",
   "execution_count": 162,
   "id": "b6d22201",
   "metadata": {},
   "outputs": [],
   "source": [
    "X_train, X_val, y_train, y_val = train_test_split(X_train, y_train, test_size=0.2, random_state=0)"
   ]
  },
  {
   "cell_type": "code",
   "execution_count": 163,
   "id": "7ec052bf",
   "metadata": {},
   "outputs": [],
   "source": [
    "model_decision_tree_1 = DecisionTreeClassifier(min_samples_leaf=1, criterion='gini', random_state=0)"
   ]
  },
  {
   "cell_type": "code",
   "execution_count": 164,
   "id": "4f25933f",
   "metadata": {},
   "outputs": [
    {
     "name": "stdout",
     "output_type": "stream",
     "text": [
      "CPU times: user 1.92 s, sys: 26.7 ms, total: 1.95 s\n",
      "Wall time: 1.96 s\n"
     ]
    },
    {
     "data": {
      "text/html": [
       "<style>#sk-container-id-22 {color: black;background-color: white;}#sk-container-id-22 pre{padding: 0;}#sk-container-id-22 div.sk-toggleable {background-color: white;}#sk-container-id-22 label.sk-toggleable__label {cursor: pointer;display: block;width: 100%;margin-bottom: 0;padding: 0.3em;box-sizing: border-box;text-align: center;}#sk-container-id-22 label.sk-toggleable__label-arrow:before {content: \"▸\";float: left;margin-right: 0.25em;color: #696969;}#sk-container-id-22 label.sk-toggleable__label-arrow:hover:before {color: black;}#sk-container-id-22 div.sk-estimator:hover label.sk-toggleable__label-arrow:before {color: black;}#sk-container-id-22 div.sk-toggleable__content {max-height: 0;max-width: 0;overflow: hidden;text-align: left;background-color: #f0f8ff;}#sk-container-id-22 div.sk-toggleable__content pre {margin: 0.2em;color: black;border-radius: 0.25em;background-color: #f0f8ff;}#sk-container-id-22 input.sk-toggleable__control:checked~div.sk-toggleable__content {max-height: 200px;max-width: 100%;overflow: auto;}#sk-container-id-22 input.sk-toggleable__control:checked~label.sk-toggleable__label-arrow:before {content: \"▾\";}#sk-container-id-22 div.sk-estimator input.sk-toggleable__control:checked~label.sk-toggleable__label {background-color: #d4ebff;}#sk-container-id-22 div.sk-label input.sk-toggleable__control:checked~label.sk-toggleable__label {background-color: #d4ebff;}#sk-container-id-22 input.sk-hidden--visually {border: 0;clip: rect(1px 1px 1px 1px);clip: rect(1px, 1px, 1px, 1px);height: 1px;margin: -1px;overflow: hidden;padding: 0;position: absolute;width: 1px;}#sk-container-id-22 div.sk-estimator {font-family: monospace;background-color: #f0f8ff;border: 1px dotted black;border-radius: 0.25em;box-sizing: border-box;margin-bottom: 0.5em;}#sk-container-id-22 div.sk-estimator:hover {background-color: #d4ebff;}#sk-container-id-22 div.sk-parallel-item::after {content: \"\";width: 100%;border-bottom: 1px solid gray;flex-grow: 1;}#sk-container-id-22 div.sk-label:hover label.sk-toggleable__label {background-color: #d4ebff;}#sk-container-id-22 div.sk-serial::before {content: \"\";position: absolute;border-left: 1px solid gray;box-sizing: border-box;top: 0;bottom: 0;left: 50%;z-index: 0;}#sk-container-id-22 div.sk-serial {display: flex;flex-direction: column;align-items: center;background-color: white;padding-right: 0.2em;padding-left: 0.2em;position: relative;}#sk-container-id-22 div.sk-item {position: relative;z-index: 1;}#sk-container-id-22 div.sk-parallel {display: flex;align-items: stretch;justify-content: center;background-color: white;position: relative;}#sk-container-id-22 div.sk-item::before, #sk-container-id-22 div.sk-parallel-item::before {content: \"\";position: absolute;border-left: 1px solid gray;box-sizing: border-box;top: 0;bottom: 0;left: 50%;z-index: -1;}#sk-container-id-22 div.sk-parallel-item {display: flex;flex-direction: column;z-index: 1;position: relative;background-color: white;}#sk-container-id-22 div.sk-parallel-item:first-child::after {align-self: flex-end;width: 50%;}#sk-container-id-22 div.sk-parallel-item:last-child::after {align-self: flex-start;width: 50%;}#sk-container-id-22 div.sk-parallel-item:only-child::after {width: 0;}#sk-container-id-22 div.sk-dashed-wrapped {border: 1px dashed gray;margin: 0 0.4em 0.5em 0.4em;box-sizing: border-box;padding-bottom: 0.4em;background-color: white;}#sk-container-id-22 div.sk-label label {font-family: monospace;font-weight: bold;display: inline-block;line-height: 1.2em;}#sk-container-id-22 div.sk-label-container {text-align: center;}#sk-container-id-22 div.sk-container {/* jupyter's `normalize.less` sets `[hidden] { display: none; }` but bootstrap.min.css set `[hidden] { display: none !important; }` so we also need the `!important` here to be able to override the default hidden behavior on the sphinx rendered scikit-learn.org. See: https://github.com/scikit-learn/scikit-learn/issues/21755 */display: inline-block !important;position: relative;}#sk-container-id-22 div.sk-text-repr-fallback {display: none;}</style><div id=\"sk-container-id-22\" class=\"sk-top-container\"><div class=\"sk-text-repr-fallback\"><pre>DecisionTreeClassifier(random_state=0)</pre><b>In a Jupyter environment, please rerun this cell to show the HTML representation or trust the notebook. <br />On GitHub, the HTML representation is unable to render, please try loading this page with nbviewer.org.</b></div><div class=\"sk-container\" hidden><div class=\"sk-item\"><div class=\"sk-estimator sk-toggleable\"><input class=\"sk-toggleable__control sk-hidden--visually\" id=\"sk-estimator-id-22\" type=\"checkbox\" checked><label for=\"sk-estimator-id-22\" class=\"sk-toggleable__label sk-toggleable__label-arrow\">DecisionTreeClassifier</label><div class=\"sk-toggleable__content\"><pre>DecisionTreeClassifier(random_state=0)</pre></div></div></div></div></div>"
      ],
      "text/plain": [
       "DecisionTreeClassifier(random_state=0)"
      ]
     },
     "execution_count": 164,
     "metadata": {},
     "output_type": "execute_result"
    }
   ],
   "source": [
    "%%time\n",
    "\n",
    "model_decision_tree_1.fit(X_train, y_train)"
   ]
  },
  {
   "cell_type": "code",
   "execution_count": 165,
   "id": "fb80c3d7",
   "metadata": {},
   "outputs": [
    {
     "data": {
      "text/plain": [
       "1.0"
      ]
     },
     "execution_count": 165,
     "metadata": {},
     "output_type": "execute_result"
    }
   ],
   "source": [
    "model_decision_tree_1.score(X_train, y_train)"
   ]
  },
  {
   "cell_type": "code",
   "execution_count": 166,
   "id": "171800a9",
   "metadata": {},
   "outputs": [
    {
     "data": {
      "text/plain": [
       "0.8233071781458878"
      ]
     },
     "execution_count": 166,
     "metadata": {},
     "output_type": "execute_result"
    }
   ],
   "source": [
    "model_decision_tree_1.score(X_val, y_val)"
   ]
  },
  {
   "cell_type": "code",
   "execution_count": 167,
   "id": "bdba02b9",
   "metadata": {},
   "outputs": [],
   "source": [
    "model_decision_tree_3 = DecisionTreeClassifier(min_samples_leaf=3, criterion='gini', random_state=0)"
   ]
  },
  {
   "cell_type": "code",
   "execution_count": 168,
   "id": "2be5ddf5",
   "metadata": {},
   "outputs": [
    {
     "name": "stdout",
     "output_type": "stream",
     "text": [
      "CPU times: user 1.77 s, sys: 41.8 ms, total: 1.81 s\n",
      "Wall time: 1.84 s\n"
     ]
    },
    {
     "data": {
      "text/html": [
       "<style>#sk-container-id-23 {color: black;background-color: white;}#sk-container-id-23 pre{padding: 0;}#sk-container-id-23 div.sk-toggleable {background-color: white;}#sk-container-id-23 label.sk-toggleable__label {cursor: pointer;display: block;width: 100%;margin-bottom: 0;padding: 0.3em;box-sizing: border-box;text-align: center;}#sk-container-id-23 label.sk-toggleable__label-arrow:before {content: \"▸\";float: left;margin-right: 0.25em;color: #696969;}#sk-container-id-23 label.sk-toggleable__label-arrow:hover:before {color: black;}#sk-container-id-23 div.sk-estimator:hover label.sk-toggleable__label-arrow:before {color: black;}#sk-container-id-23 div.sk-toggleable__content {max-height: 0;max-width: 0;overflow: hidden;text-align: left;background-color: #f0f8ff;}#sk-container-id-23 div.sk-toggleable__content pre {margin: 0.2em;color: black;border-radius: 0.25em;background-color: #f0f8ff;}#sk-container-id-23 input.sk-toggleable__control:checked~div.sk-toggleable__content {max-height: 200px;max-width: 100%;overflow: auto;}#sk-container-id-23 input.sk-toggleable__control:checked~label.sk-toggleable__label-arrow:before {content: \"▾\";}#sk-container-id-23 div.sk-estimator input.sk-toggleable__control:checked~label.sk-toggleable__label {background-color: #d4ebff;}#sk-container-id-23 div.sk-label input.sk-toggleable__control:checked~label.sk-toggleable__label {background-color: #d4ebff;}#sk-container-id-23 input.sk-hidden--visually {border: 0;clip: rect(1px 1px 1px 1px);clip: rect(1px, 1px, 1px, 1px);height: 1px;margin: -1px;overflow: hidden;padding: 0;position: absolute;width: 1px;}#sk-container-id-23 div.sk-estimator {font-family: monospace;background-color: #f0f8ff;border: 1px dotted black;border-radius: 0.25em;box-sizing: border-box;margin-bottom: 0.5em;}#sk-container-id-23 div.sk-estimator:hover {background-color: #d4ebff;}#sk-container-id-23 div.sk-parallel-item::after {content: \"\";width: 100%;border-bottom: 1px solid gray;flex-grow: 1;}#sk-container-id-23 div.sk-label:hover label.sk-toggleable__label {background-color: #d4ebff;}#sk-container-id-23 div.sk-serial::before {content: \"\";position: absolute;border-left: 1px solid gray;box-sizing: border-box;top: 0;bottom: 0;left: 50%;z-index: 0;}#sk-container-id-23 div.sk-serial {display: flex;flex-direction: column;align-items: center;background-color: white;padding-right: 0.2em;padding-left: 0.2em;position: relative;}#sk-container-id-23 div.sk-item {position: relative;z-index: 1;}#sk-container-id-23 div.sk-parallel {display: flex;align-items: stretch;justify-content: center;background-color: white;position: relative;}#sk-container-id-23 div.sk-item::before, #sk-container-id-23 div.sk-parallel-item::before {content: \"\";position: absolute;border-left: 1px solid gray;box-sizing: border-box;top: 0;bottom: 0;left: 50%;z-index: -1;}#sk-container-id-23 div.sk-parallel-item {display: flex;flex-direction: column;z-index: 1;position: relative;background-color: white;}#sk-container-id-23 div.sk-parallel-item:first-child::after {align-self: flex-end;width: 50%;}#sk-container-id-23 div.sk-parallel-item:last-child::after {align-self: flex-start;width: 50%;}#sk-container-id-23 div.sk-parallel-item:only-child::after {width: 0;}#sk-container-id-23 div.sk-dashed-wrapped {border: 1px dashed gray;margin: 0 0.4em 0.5em 0.4em;box-sizing: border-box;padding-bottom: 0.4em;background-color: white;}#sk-container-id-23 div.sk-label label {font-family: monospace;font-weight: bold;display: inline-block;line-height: 1.2em;}#sk-container-id-23 div.sk-label-container {text-align: center;}#sk-container-id-23 div.sk-container {/* jupyter's `normalize.less` sets `[hidden] { display: none; }` but bootstrap.min.css set `[hidden] { display: none !important; }` so we also need the `!important` here to be able to override the default hidden behavior on the sphinx rendered scikit-learn.org. See: https://github.com/scikit-learn/scikit-learn/issues/21755 */display: inline-block !important;position: relative;}#sk-container-id-23 div.sk-text-repr-fallback {display: none;}</style><div id=\"sk-container-id-23\" class=\"sk-top-container\"><div class=\"sk-text-repr-fallback\"><pre>DecisionTreeClassifier(min_samples_leaf=3, random_state=0)</pre><b>In a Jupyter environment, please rerun this cell to show the HTML representation or trust the notebook. <br />On GitHub, the HTML representation is unable to render, please try loading this page with nbviewer.org.</b></div><div class=\"sk-container\" hidden><div class=\"sk-item\"><div class=\"sk-estimator sk-toggleable\"><input class=\"sk-toggleable__control sk-hidden--visually\" id=\"sk-estimator-id-23\" type=\"checkbox\" checked><label for=\"sk-estimator-id-23\" class=\"sk-toggleable__label sk-toggleable__label-arrow\">DecisionTreeClassifier</label><div class=\"sk-toggleable__content\"><pre>DecisionTreeClassifier(min_samples_leaf=3, random_state=0)</pre></div></div></div></div></div>"
      ],
      "text/plain": [
       "DecisionTreeClassifier(min_samples_leaf=3, random_state=0)"
      ]
     },
     "execution_count": 168,
     "metadata": {},
     "output_type": "execute_result"
    }
   ],
   "source": [
    "%%time\n",
    "\n",
    "model_decision_tree_3.fit(X_train, y_train)"
   ]
  },
  {
   "cell_type": "code",
   "execution_count": 169,
   "id": "8034d0f6",
   "metadata": {},
   "outputs": [
    {
     "data": {
      "text/plain": [
       "0.9549484086615317"
      ]
     },
     "execution_count": 169,
     "metadata": {},
     "output_type": "execute_result"
    }
   ],
   "source": [
    "model_decision_tree_3.score(X_train, y_train)"
   ]
  },
  {
   "cell_type": "code",
   "execution_count": 170,
   "id": "77f01de2",
   "metadata": {},
   "outputs": [
    {
     "data": {
      "text/plain": [
       "0.8262133100842778"
      ]
     },
     "execution_count": 170,
     "metadata": {},
     "output_type": "execute_result"
    }
   ],
   "source": [
    "model_decision_tree_3.score(X_val, y_val)"
   ]
  },
  {
   "cell_type": "code",
   "execution_count": 171,
   "id": "e543e704",
   "metadata": {},
   "outputs": [],
   "source": [
    "model_decision_tree_5 = DecisionTreeClassifier(min_samples_leaf=5, criterion='gini', random_state=0)"
   ]
  },
  {
   "cell_type": "code",
   "execution_count": 172,
   "id": "967b4069",
   "metadata": {},
   "outputs": [
    {
     "name": "stdout",
     "output_type": "stream",
     "text": [
      "CPU times: user 1.68 s, sys: 38.1 ms, total: 1.71 s\n",
      "Wall time: 1.75 s\n"
     ]
    },
    {
     "data": {
      "text/html": [
       "<style>#sk-container-id-24 {color: black;background-color: white;}#sk-container-id-24 pre{padding: 0;}#sk-container-id-24 div.sk-toggleable {background-color: white;}#sk-container-id-24 label.sk-toggleable__label {cursor: pointer;display: block;width: 100%;margin-bottom: 0;padding: 0.3em;box-sizing: border-box;text-align: center;}#sk-container-id-24 label.sk-toggleable__label-arrow:before {content: \"▸\";float: left;margin-right: 0.25em;color: #696969;}#sk-container-id-24 label.sk-toggleable__label-arrow:hover:before {color: black;}#sk-container-id-24 div.sk-estimator:hover label.sk-toggleable__label-arrow:before {color: black;}#sk-container-id-24 div.sk-toggleable__content {max-height: 0;max-width: 0;overflow: hidden;text-align: left;background-color: #f0f8ff;}#sk-container-id-24 div.sk-toggleable__content pre {margin: 0.2em;color: black;border-radius: 0.25em;background-color: #f0f8ff;}#sk-container-id-24 input.sk-toggleable__control:checked~div.sk-toggleable__content {max-height: 200px;max-width: 100%;overflow: auto;}#sk-container-id-24 input.sk-toggleable__control:checked~label.sk-toggleable__label-arrow:before {content: \"▾\";}#sk-container-id-24 div.sk-estimator input.sk-toggleable__control:checked~label.sk-toggleable__label {background-color: #d4ebff;}#sk-container-id-24 div.sk-label input.sk-toggleable__control:checked~label.sk-toggleable__label {background-color: #d4ebff;}#sk-container-id-24 input.sk-hidden--visually {border: 0;clip: rect(1px 1px 1px 1px);clip: rect(1px, 1px, 1px, 1px);height: 1px;margin: -1px;overflow: hidden;padding: 0;position: absolute;width: 1px;}#sk-container-id-24 div.sk-estimator {font-family: monospace;background-color: #f0f8ff;border: 1px dotted black;border-radius: 0.25em;box-sizing: border-box;margin-bottom: 0.5em;}#sk-container-id-24 div.sk-estimator:hover {background-color: #d4ebff;}#sk-container-id-24 div.sk-parallel-item::after {content: \"\";width: 100%;border-bottom: 1px solid gray;flex-grow: 1;}#sk-container-id-24 div.sk-label:hover label.sk-toggleable__label {background-color: #d4ebff;}#sk-container-id-24 div.sk-serial::before {content: \"\";position: absolute;border-left: 1px solid gray;box-sizing: border-box;top: 0;bottom: 0;left: 50%;z-index: 0;}#sk-container-id-24 div.sk-serial {display: flex;flex-direction: column;align-items: center;background-color: white;padding-right: 0.2em;padding-left: 0.2em;position: relative;}#sk-container-id-24 div.sk-item {position: relative;z-index: 1;}#sk-container-id-24 div.sk-parallel {display: flex;align-items: stretch;justify-content: center;background-color: white;position: relative;}#sk-container-id-24 div.sk-item::before, #sk-container-id-24 div.sk-parallel-item::before {content: \"\";position: absolute;border-left: 1px solid gray;box-sizing: border-box;top: 0;bottom: 0;left: 50%;z-index: -1;}#sk-container-id-24 div.sk-parallel-item {display: flex;flex-direction: column;z-index: 1;position: relative;background-color: white;}#sk-container-id-24 div.sk-parallel-item:first-child::after {align-self: flex-end;width: 50%;}#sk-container-id-24 div.sk-parallel-item:last-child::after {align-self: flex-start;width: 50%;}#sk-container-id-24 div.sk-parallel-item:only-child::after {width: 0;}#sk-container-id-24 div.sk-dashed-wrapped {border: 1px dashed gray;margin: 0 0.4em 0.5em 0.4em;box-sizing: border-box;padding-bottom: 0.4em;background-color: white;}#sk-container-id-24 div.sk-label label {font-family: monospace;font-weight: bold;display: inline-block;line-height: 1.2em;}#sk-container-id-24 div.sk-label-container {text-align: center;}#sk-container-id-24 div.sk-container {/* jupyter's `normalize.less` sets `[hidden] { display: none; }` but bootstrap.min.css set `[hidden] { display: none !important; }` so we also need the `!important` here to be able to override the default hidden behavior on the sphinx rendered scikit-learn.org. See: https://github.com/scikit-learn/scikit-learn/issues/21755 */display: inline-block !important;position: relative;}#sk-container-id-24 div.sk-text-repr-fallback {display: none;}</style><div id=\"sk-container-id-24\" class=\"sk-top-container\"><div class=\"sk-text-repr-fallback\"><pre>DecisionTreeClassifier(min_samples_leaf=5, random_state=0)</pre><b>In a Jupyter environment, please rerun this cell to show the HTML representation or trust the notebook. <br />On GitHub, the HTML representation is unable to render, please try loading this page with nbviewer.org.</b></div><div class=\"sk-container\" hidden><div class=\"sk-item\"><div class=\"sk-estimator sk-toggleable\"><input class=\"sk-toggleable__control sk-hidden--visually\" id=\"sk-estimator-id-24\" type=\"checkbox\" checked><label for=\"sk-estimator-id-24\" class=\"sk-toggleable__label sk-toggleable__label-arrow\">DecisionTreeClassifier</label><div class=\"sk-toggleable__content\"><pre>DecisionTreeClassifier(min_samples_leaf=5, random_state=0)</pre></div></div></div></div></div>"
      ],
      "text/plain": [
       "DecisionTreeClassifier(min_samples_leaf=5, random_state=0)"
      ]
     },
     "execution_count": 172,
     "metadata": {},
     "output_type": "execute_result"
    }
   ],
   "source": [
    "%%time\n",
    "\n",
    "model_decision_tree_5.fit(X_train, y_train)"
   ]
  },
  {
   "cell_type": "code",
   "execution_count": 173,
   "id": "7675e2d3",
   "metadata": {},
   "outputs": [
    {
     "data": {
      "text/plain": [
       "0.9302426972823717"
      ]
     },
     "execution_count": 173,
     "metadata": {},
     "output_type": "execute_result"
    }
   ],
   "source": [
    "model_decision_tree_5.score(X_train, y_train)"
   ]
  },
  {
   "cell_type": "code",
   "execution_count": 174,
   "id": "e9eaf461",
   "metadata": {},
   "outputs": [
    {
     "data": {
      "text/plain": [
       "0.8337692531240918"
      ]
     },
     "execution_count": 174,
     "metadata": {},
     "output_type": "execute_result"
    }
   ],
   "source": [
    "model_decision_tree_5.score(X_val, y_val)"
   ]
  },
  {
   "cell_type": "code",
   "execution_count": 175,
   "id": "0fa8549a",
   "metadata": {},
   "outputs": [],
   "source": [
    "model_decision_tree_10 = DecisionTreeClassifier(min_samples_leaf=10, criterion='gini', random_state=0)"
   ]
  },
  {
   "cell_type": "code",
   "execution_count": 176,
   "id": "6e105880",
   "metadata": {},
   "outputs": [
    {
     "name": "stdout",
     "output_type": "stream",
     "text": [
      "CPU times: user 1.56 s, sys: 14.5 ms, total: 1.57 s\n",
      "Wall time: 1.58 s\n"
     ]
    },
    {
     "data": {
      "text/html": [
       "<style>#sk-container-id-25 {color: black;background-color: white;}#sk-container-id-25 pre{padding: 0;}#sk-container-id-25 div.sk-toggleable {background-color: white;}#sk-container-id-25 label.sk-toggleable__label {cursor: pointer;display: block;width: 100%;margin-bottom: 0;padding: 0.3em;box-sizing: border-box;text-align: center;}#sk-container-id-25 label.sk-toggleable__label-arrow:before {content: \"▸\";float: left;margin-right: 0.25em;color: #696969;}#sk-container-id-25 label.sk-toggleable__label-arrow:hover:before {color: black;}#sk-container-id-25 div.sk-estimator:hover label.sk-toggleable__label-arrow:before {color: black;}#sk-container-id-25 div.sk-toggleable__content {max-height: 0;max-width: 0;overflow: hidden;text-align: left;background-color: #f0f8ff;}#sk-container-id-25 div.sk-toggleable__content pre {margin: 0.2em;color: black;border-radius: 0.25em;background-color: #f0f8ff;}#sk-container-id-25 input.sk-toggleable__control:checked~div.sk-toggleable__content {max-height: 200px;max-width: 100%;overflow: auto;}#sk-container-id-25 input.sk-toggleable__control:checked~label.sk-toggleable__label-arrow:before {content: \"▾\";}#sk-container-id-25 div.sk-estimator input.sk-toggleable__control:checked~label.sk-toggleable__label {background-color: #d4ebff;}#sk-container-id-25 div.sk-label input.sk-toggleable__control:checked~label.sk-toggleable__label {background-color: #d4ebff;}#sk-container-id-25 input.sk-hidden--visually {border: 0;clip: rect(1px 1px 1px 1px);clip: rect(1px, 1px, 1px, 1px);height: 1px;margin: -1px;overflow: hidden;padding: 0;position: absolute;width: 1px;}#sk-container-id-25 div.sk-estimator {font-family: monospace;background-color: #f0f8ff;border: 1px dotted black;border-radius: 0.25em;box-sizing: border-box;margin-bottom: 0.5em;}#sk-container-id-25 div.sk-estimator:hover {background-color: #d4ebff;}#sk-container-id-25 div.sk-parallel-item::after {content: \"\";width: 100%;border-bottom: 1px solid gray;flex-grow: 1;}#sk-container-id-25 div.sk-label:hover label.sk-toggleable__label {background-color: #d4ebff;}#sk-container-id-25 div.sk-serial::before {content: \"\";position: absolute;border-left: 1px solid gray;box-sizing: border-box;top: 0;bottom: 0;left: 50%;z-index: 0;}#sk-container-id-25 div.sk-serial {display: flex;flex-direction: column;align-items: center;background-color: white;padding-right: 0.2em;padding-left: 0.2em;position: relative;}#sk-container-id-25 div.sk-item {position: relative;z-index: 1;}#sk-container-id-25 div.sk-parallel {display: flex;align-items: stretch;justify-content: center;background-color: white;position: relative;}#sk-container-id-25 div.sk-item::before, #sk-container-id-25 div.sk-parallel-item::before {content: \"\";position: absolute;border-left: 1px solid gray;box-sizing: border-box;top: 0;bottom: 0;left: 50%;z-index: -1;}#sk-container-id-25 div.sk-parallel-item {display: flex;flex-direction: column;z-index: 1;position: relative;background-color: white;}#sk-container-id-25 div.sk-parallel-item:first-child::after {align-self: flex-end;width: 50%;}#sk-container-id-25 div.sk-parallel-item:last-child::after {align-self: flex-start;width: 50%;}#sk-container-id-25 div.sk-parallel-item:only-child::after {width: 0;}#sk-container-id-25 div.sk-dashed-wrapped {border: 1px dashed gray;margin: 0 0.4em 0.5em 0.4em;box-sizing: border-box;padding-bottom: 0.4em;background-color: white;}#sk-container-id-25 div.sk-label label {font-family: monospace;font-weight: bold;display: inline-block;line-height: 1.2em;}#sk-container-id-25 div.sk-label-container {text-align: center;}#sk-container-id-25 div.sk-container {/* jupyter's `normalize.less` sets `[hidden] { display: none; }` but bootstrap.min.css set `[hidden] { display: none !important; }` so we also need the `!important` here to be able to override the default hidden behavior on the sphinx rendered scikit-learn.org. See: https://github.com/scikit-learn/scikit-learn/issues/21755 */display: inline-block !important;position: relative;}#sk-container-id-25 div.sk-text-repr-fallback {display: none;}</style><div id=\"sk-container-id-25\" class=\"sk-top-container\"><div class=\"sk-text-repr-fallback\"><pre>DecisionTreeClassifier(min_samples_leaf=10, random_state=0)</pre><b>In a Jupyter environment, please rerun this cell to show the HTML representation or trust the notebook. <br />On GitHub, the HTML representation is unable to render, please try loading this page with nbviewer.org.</b></div><div class=\"sk-container\" hidden><div class=\"sk-item\"><div class=\"sk-estimator sk-toggleable\"><input class=\"sk-toggleable__control sk-hidden--visually\" id=\"sk-estimator-id-25\" type=\"checkbox\" checked><label for=\"sk-estimator-id-25\" class=\"sk-toggleable__label sk-toggleable__label-arrow\">DecisionTreeClassifier</label><div class=\"sk-toggleable__content\"><pre>DecisionTreeClassifier(min_samples_leaf=10, random_state=0)</pre></div></div></div></div></div>"
      ],
      "text/plain": [
       "DecisionTreeClassifier(min_samples_leaf=10, random_state=0)"
      ]
     },
     "execution_count": 176,
     "metadata": {},
     "output_type": "execute_result"
    }
   ],
   "source": [
    "%%time\n",
    "\n",
    "model_decision_tree_10.fit(X_train, y_train)"
   ]
  },
  {
   "cell_type": "code",
   "execution_count": 177,
   "id": "073c7a46",
   "metadata": {},
   "outputs": [
    {
     "data": {
      "text/plain": [
       "0.8904955675047231"
      ]
     },
     "execution_count": 177,
     "metadata": {},
     "output_type": "execute_result"
    }
   ],
   "source": [
    "model_decision_tree_10.score(X_train, y_train)"
   ]
  },
  {
   "cell_type": "code",
   "execution_count": 178,
   "id": "2890d32d",
   "metadata": {},
   "outputs": [
    {
     "data": {
      "text/plain": [
       "0.8235977913397268"
      ]
     },
     "execution_count": 178,
     "metadata": {},
     "output_type": "execute_result"
    }
   ],
   "source": [
    "model_decision_tree_10.score(X_val, y_val)"
   ]
  },
  {
   "cell_type": "code",
   "execution_count": 179,
   "id": "6bb041b0",
   "metadata": {},
   "outputs": [],
   "source": [
    "model_random_forest_100 = RandomForestClassifier(n_estimators=100,\n",
    "                                                 min_samples_leaf=1,\n",
    "                                                 max_features=int(len(list(X_train.columns)) ** (1/2)),\n",
    "                                                 criterion='gini')"
   ]
  },
  {
   "cell_type": "code",
   "execution_count": 180,
   "id": "1b9ea414",
   "metadata": {},
   "outputs": [
    {
     "name": "stdout",
     "output_type": "stream",
     "text": [
      "CPU times: user 4.63 s, sys: 35.5 ms, total: 4.67 s\n",
      "Wall time: 4.68 s\n"
     ]
    },
    {
     "data": {
      "text/html": [
       "<style>#sk-container-id-26 {color: black;background-color: white;}#sk-container-id-26 pre{padding: 0;}#sk-container-id-26 div.sk-toggleable {background-color: white;}#sk-container-id-26 label.sk-toggleable__label {cursor: pointer;display: block;width: 100%;margin-bottom: 0;padding: 0.3em;box-sizing: border-box;text-align: center;}#sk-container-id-26 label.sk-toggleable__label-arrow:before {content: \"▸\";float: left;margin-right: 0.25em;color: #696969;}#sk-container-id-26 label.sk-toggleable__label-arrow:hover:before {color: black;}#sk-container-id-26 div.sk-estimator:hover label.sk-toggleable__label-arrow:before {color: black;}#sk-container-id-26 div.sk-toggleable__content {max-height: 0;max-width: 0;overflow: hidden;text-align: left;background-color: #f0f8ff;}#sk-container-id-26 div.sk-toggleable__content pre {margin: 0.2em;color: black;border-radius: 0.25em;background-color: #f0f8ff;}#sk-container-id-26 input.sk-toggleable__control:checked~div.sk-toggleable__content {max-height: 200px;max-width: 100%;overflow: auto;}#sk-container-id-26 input.sk-toggleable__control:checked~label.sk-toggleable__label-arrow:before {content: \"▾\";}#sk-container-id-26 div.sk-estimator input.sk-toggleable__control:checked~label.sk-toggleable__label {background-color: #d4ebff;}#sk-container-id-26 div.sk-label input.sk-toggleable__control:checked~label.sk-toggleable__label {background-color: #d4ebff;}#sk-container-id-26 input.sk-hidden--visually {border: 0;clip: rect(1px 1px 1px 1px);clip: rect(1px, 1px, 1px, 1px);height: 1px;margin: -1px;overflow: hidden;padding: 0;position: absolute;width: 1px;}#sk-container-id-26 div.sk-estimator {font-family: monospace;background-color: #f0f8ff;border: 1px dotted black;border-radius: 0.25em;box-sizing: border-box;margin-bottom: 0.5em;}#sk-container-id-26 div.sk-estimator:hover {background-color: #d4ebff;}#sk-container-id-26 div.sk-parallel-item::after {content: \"\";width: 100%;border-bottom: 1px solid gray;flex-grow: 1;}#sk-container-id-26 div.sk-label:hover label.sk-toggleable__label {background-color: #d4ebff;}#sk-container-id-26 div.sk-serial::before {content: \"\";position: absolute;border-left: 1px solid gray;box-sizing: border-box;top: 0;bottom: 0;left: 50%;z-index: 0;}#sk-container-id-26 div.sk-serial {display: flex;flex-direction: column;align-items: center;background-color: white;padding-right: 0.2em;padding-left: 0.2em;position: relative;}#sk-container-id-26 div.sk-item {position: relative;z-index: 1;}#sk-container-id-26 div.sk-parallel {display: flex;align-items: stretch;justify-content: center;background-color: white;position: relative;}#sk-container-id-26 div.sk-item::before, #sk-container-id-26 div.sk-parallel-item::before {content: \"\";position: absolute;border-left: 1px solid gray;box-sizing: border-box;top: 0;bottom: 0;left: 50%;z-index: -1;}#sk-container-id-26 div.sk-parallel-item {display: flex;flex-direction: column;z-index: 1;position: relative;background-color: white;}#sk-container-id-26 div.sk-parallel-item:first-child::after {align-self: flex-end;width: 50%;}#sk-container-id-26 div.sk-parallel-item:last-child::after {align-self: flex-start;width: 50%;}#sk-container-id-26 div.sk-parallel-item:only-child::after {width: 0;}#sk-container-id-26 div.sk-dashed-wrapped {border: 1px dashed gray;margin: 0 0.4em 0.5em 0.4em;box-sizing: border-box;padding-bottom: 0.4em;background-color: white;}#sk-container-id-26 div.sk-label label {font-family: monospace;font-weight: bold;display: inline-block;line-height: 1.2em;}#sk-container-id-26 div.sk-label-container {text-align: center;}#sk-container-id-26 div.sk-container {/* jupyter's `normalize.less` sets `[hidden] { display: none; }` but bootstrap.min.css set `[hidden] { display: none !important; }` so we also need the `!important` here to be able to override the default hidden behavior on the sphinx rendered scikit-learn.org. See: https://github.com/scikit-learn/scikit-learn/issues/21755 */display: inline-block !important;position: relative;}#sk-container-id-26 div.sk-text-repr-fallback {display: none;}</style><div id=\"sk-container-id-26\" class=\"sk-top-container\"><div class=\"sk-text-repr-fallback\"><pre>RandomForestClassifier(max_features=26)</pre><b>In a Jupyter environment, please rerun this cell to show the HTML representation or trust the notebook. <br />On GitHub, the HTML representation is unable to render, please try loading this page with nbviewer.org.</b></div><div class=\"sk-container\" hidden><div class=\"sk-item\"><div class=\"sk-estimator sk-toggleable\"><input class=\"sk-toggleable__control sk-hidden--visually\" id=\"sk-estimator-id-26\" type=\"checkbox\" checked><label for=\"sk-estimator-id-26\" class=\"sk-toggleable__label sk-toggleable__label-arrow\">RandomForestClassifier</label><div class=\"sk-toggleable__content\"><pre>RandomForestClassifier(max_features=26)</pre></div></div></div></div></div>"
      ],
      "text/plain": [
       "RandomForestClassifier(max_features=26)"
      ]
     },
     "execution_count": 180,
     "metadata": {},
     "output_type": "execute_result"
    }
   ],
   "source": [
    "%%time\n",
    "\n",
    "model_random_forest_100.fit(X_train, y_train)"
   ]
  },
  {
   "cell_type": "code",
   "execution_count": 181,
   "id": "7f9e3804",
   "metadata": {},
   "outputs": [
    {
     "name": "stdout",
     "output_type": "stream",
     "text": [
      "CPU times: user 240 ms, sys: 11.5 ms, total: 251 ms\n",
      "Wall time: 250 ms\n"
     ]
    },
    {
     "data": {
      "text/plain": [
       "1.0"
      ]
     },
     "execution_count": 181,
     "metadata": {},
     "output_type": "execute_result"
    }
   ],
   "source": [
    "%%time\n",
    "\n",
    "model_random_forest_100.score(X_train, y_train)"
   ]
  },
  {
   "cell_type": "code",
   "execution_count": 182,
   "id": "b256ff8d",
   "metadata": {},
   "outputs": [
    {
     "name": "stdout",
     "output_type": "stream",
     "text": [
      "CPU times: user 83.7 ms, sys: 3.35 ms, total: 87 ms\n",
      "Wall time: 89.8 ms\n"
     ]
    },
    {
     "data": {
      "text/plain": [
       "0.9503051438535309"
      ]
     },
     "execution_count": 182,
     "metadata": {},
     "output_type": "execute_result"
    }
   ],
   "source": [
    "%%time\n",
    "\n",
    "model_random_forest_100.score(X_val, y_val)"
   ]
  },
  {
   "cell_type": "code",
   "execution_count": 183,
   "id": "4e9e30a8",
   "metadata": {},
   "outputs": [],
   "source": [
    "model_random_forest_1000 = RandomForestClassifier(n_estimators=1000,\n",
    "                                                  min_samples_leaf=1,\n",
    "                                                  max_features=int(len(list(X_train.columns)) ** (1/2)),\n",
    "                                                  criterion='gini')"
   ]
  },
  {
   "cell_type": "code",
   "execution_count": 184,
   "id": "a9835dcd",
   "metadata": {},
   "outputs": [
    {
     "name": "stdout",
     "output_type": "stream",
     "text": [
      "CPU times: user 46.4 s, sys: 289 ms, total: 46.7 s\n",
      "Wall time: 46.9 s\n"
     ]
    },
    {
     "data": {
      "text/html": [
       "<style>#sk-container-id-27 {color: black;background-color: white;}#sk-container-id-27 pre{padding: 0;}#sk-container-id-27 div.sk-toggleable {background-color: white;}#sk-container-id-27 label.sk-toggleable__label {cursor: pointer;display: block;width: 100%;margin-bottom: 0;padding: 0.3em;box-sizing: border-box;text-align: center;}#sk-container-id-27 label.sk-toggleable__label-arrow:before {content: \"▸\";float: left;margin-right: 0.25em;color: #696969;}#sk-container-id-27 label.sk-toggleable__label-arrow:hover:before {color: black;}#sk-container-id-27 div.sk-estimator:hover label.sk-toggleable__label-arrow:before {color: black;}#sk-container-id-27 div.sk-toggleable__content {max-height: 0;max-width: 0;overflow: hidden;text-align: left;background-color: #f0f8ff;}#sk-container-id-27 div.sk-toggleable__content pre {margin: 0.2em;color: black;border-radius: 0.25em;background-color: #f0f8ff;}#sk-container-id-27 input.sk-toggleable__control:checked~div.sk-toggleable__content {max-height: 200px;max-width: 100%;overflow: auto;}#sk-container-id-27 input.sk-toggleable__control:checked~label.sk-toggleable__label-arrow:before {content: \"▾\";}#sk-container-id-27 div.sk-estimator input.sk-toggleable__control:checked~label.sk-toggleable__label {background-color: #d4ebff;}#sk-container-id-27 div.sk-label input.sk-toggleable__control:checked~label.sk-toggleable__label {background-color: #d4ebff;}#sk-container-id-27 input.sk-hidden--visually {border: 0;clip: rect(1px 1px 1px 1px);clip: rect(1px, 1px, 1px, 1px);height: 1px;margin: -1px;overflow: hidden;padding: 0;position: absolute;width: 1px;}#sk-container-id-27 div.sk-estimator {font-family: monospace;background-color: #f0f8ff;border: 1px dotted black;border-radius: 0.25em;box-sizing: border-box;margin-bottom: 0.5em;}#sk-container-id-27 div.sk-estimator:hover {background-color: #d4ebff;}#sk-container-id-27 div.sk-parallel-item::after {content: \"\";width: 100%;border-bottom: 1px solid gray;flex-grow: 1;}#sk-container-id-27 div.sk-label:hover label.sk-toggleable__label {background-color: #d4ebff;}#sk-container-id-27 div.sk-serial::before {content: \"\";position: absolute;border-left: 1px solid gray;box-sizing: border-box;top: 0;bottom: 0;left: 50%;z-index: 0;}#sk-container-id-27 div.sk-serial {display: flex;flex-direction: column;align-items: center;background-color: white;padding-right: 0.2em;padding-left: 0.2em;position: relative;}#sk-container-id-27 div.sk-item {position: relative;z-index: 1;}#sk-container-id-27 div.sk-parallel {display: flex;align-items: stretch;justify-content: center;background-color: white;position: relative;}#sk-container-id-27 div.sk-item::before, #sk-container-id-27 div.sk-parallel-item::before {content: \"\";position: absolute;border-left: 1px solid gray;box-sizing: border-box;top: 0;bottom: 0;left: 50%;z-index: -1;}#sk-container-id-27 div.sk-parallel-item {display: flex;flex-direction: column;z-index: 1;position: relative;background-color: white;}#sk-container-id-27 div.sk-parallel-item:first-child::after {align-self: flex-end;width: 50%;}#sk-container-id-27 div.sk-parallel-item:last-child::after {align-self: flex-start;width: 50%;}#sk-container-id-27 div.sk-parallel-item:only-child::after {width: 0;}#sk-container-id-27 div.sk-dashed-wrapped {border: 1px dashed gray;margin: 0 0.4em 0.5em 0.4em;box-sizing: border-box;padding-bottom: 0.4em;background-color: white;}#sk-container-id-27 div.sk-label label {font-family: monospace;font-weight: bold;display: inline-block;line-height: 1.2em;}#sk-container-id-27 div.sk-label-container {text-align: center;}#sk-container-id-27 div.sk-container {/* jupyter's `normalize.less` sets `[hidden] { display: none; }` but bootstrap.min.css set `[hidden] { display: none !important; }` so we also need the `!important` here to be able to override the default hidden behavior on the sphinx rendered scikit-learn.org. See: https://github.com/scikit-learn/scikit-learn/issues/21755 */display: inline-block !important;position: relative;}#sk-container-id-27 div.sk-text-repr-fallback {display: none;}</style><div id=\"sk-container-id-27\" class=\"sk-top-container\"><div class=\"sk-text-repr-fallback\"><pre>RandomForestClassifier(max_features=26, n_estimators=1000)</pre><b>In a Jupyter environment, please rerun this cell to show the HTML representation or trust the notebook. <br />On GitHub, the HTML representation is unable to render, please try loading this page with nbviewer.org.</b></div><div class=\"sk-container\" hidden><div class=\"sk-item\"><div class=\"sk-estimator sk-toggleable\"><input class=\"sk-toggleable__control sk-hidden--visually\" id=\"sk-estimator-id-27\" type=\"checkbox\" checked><label for=\"sk-estimator-id-27\" class=\"sk-toggleable__label sk-toggleable__label-arrow\">RandomForestClassifier</label><div class=\"sk-toggleable__content\"><pre>RandomForestClassifier(max_features=26, n_estimators=1000)</pre></div></div></div></div></div>"
      ],
      "text/plain": [
       "RandomForestClassifier(max_features=26, n_estimators=1000)"
      ]
     },
     "execution_count": 184,
     "metadata": {},
     "output_type": "execute_result"
    }
   ],
   "source": [
    "%%time\n",
    "\n",
    "model_random_forest_1000.fit(X_train, y_train)"
   ]
  },
  {
   "cell_type": "code",
   "execution_count": 185,
   "id": "d4058b22",
   "metadata": {},
   "outputs": [
    {
     "name": "stdout",
     "output_type": "stream",
     "text": [
      "CPU times: user 2.06 s, sys: 136 ms, total: 2.19 s\n",
      "Wall time: 2.34 s\n"
     ]
    },
    {
     "data": {
      "text/plain": [
       "1.0"
      ]
     },
     "execution_count": 185,
     "metadata": {},
     "output_type": "execute_result"
    }
   ],
   "source": [
    "%%time\n",
    "\n",
    "model_random_forest_1000.score(X_train, y_train)"
   ]
  },
  {
   "cell_type": "code",
   "execution_count": 186,
   "id": "280adee5",
   "metadata": {},
   "outputs": [
    {
     "name": "stdout",
     "output_type": "stream",
     "text": [
      "CPU times: user 503 ms, sys: 13.7 ms, total: 517 ms\n",
      "Wall time: 527 ms\n"
     ]
    },
    {
     "data": {
      "text/plain": [
       "0.95640802092415"
      ]
     },
     "execution_count": 186,
     "metadata": {},
     "output_type": "execute_result"
    }
   ],
   "source": [
    "%%time\n",
    "\n",
    "model_random_forest_1000.score(X_val, y_val)"
   ]
  },
  {
   "cell_type": "code",
   "execution_count": 187,
   "id": "422e168b",
   "metadata": {},
   "outputs": [],
   "source": [
    "y_pred = model_random_forest_100.predict(X_val)"
   ]
  },
  {
   "cell_type": "code",
   "execution_count": 188,
   "id": "9528465c",
   "metadata": {},
   "outputs": [],
   "source": [
    "from sklearn.metrics import accuracy_score, precision_score, recall_score, f1_score"
   ]
  },
  {
   "cell_type": "code",
   "execution_count": 189,
   "id": "290882fc",
   "metadata": {},
   "outputs": [
    {
     "data": {
      "text/plain": [
       "0.9503051438535309"
      ]
     },
     "execution_count": 189,
     "metadata": {},
     "output_type": "execute_result"
    }
   ],
   "source": [
    "precision_score(y_val, y_pred, average='micro')"
   ]
  },
  {
   "cell_type": "code",
   "execution_count": 190,
   "id": "373990d0",
   "metadata": {},
   "outputs": [
    {
     "data": {
      "text/plain": [
       "0.9501029238124609"
      ]
     },
     "execution_count": 190,
     "metadata": {},
     "output_type": "execute_result"
    }
   ],
   "source": [
    "precision_score(y_val, y_pred, average='macro')"
   ]
  },
  {
   "cell_type": "code",
   "execution_count": 191,
   "id": "47d61c84",
   "metadata": {},
   "outputs": [],
   "source": [
    "X_err = X_val[y_pred != y_val]\n",
    "y_err = y_val[y_pred != y_val]"
   ]
  },
  {
   "cell_type": "code",
   "execution_count": 192,
   "id": "28100027",
   "metadata": {},
   "outputs": [],
   "source": [
    "X_y_y_pred_err = X_err.copy(deep=True)"
   ]
  },
  {
   "cell_type": "code",
   "execution_count": 193,
   "id": "51404d44",
   "metadata": {},
   "outputs": [],
   "source": [
    "X_y_y_pred_err['y'] = y_err\n",
    "X_y_y_pred_err['y_pred'] = y_pred[y_pred != y_val]"
   ]
  },
  {
   "cell_type": "code",
   "execution_count": 196,
   "id": "3f849c5e",
   "metadata": {},
   "outputs": [
    {
     "data": {
      "text/html": [
       "<div>\n",
       "<style scoped>\n",
       "    .dataframe tbody tr th:only-of-type {\n",
       "        vertical-align: middle;\n",
       "    }\n",
       "\n",
       "    .dataframe tbody tr th {\n",
       "        vertical-align: top;\n",
       "    }\n",
       "\n",
       "    .dataframe thead th {\n",
       "        text-align: right;\n",
       "    }\n",
       "</style>\n",
       "<table border=\"1\" class=\"dataframe\">\n",
       "  <thead>\n",
       "    <tr style=\"text-align: right;\">\n",
       "      <th></th>\n",
       "      <th>y</th>\n",
       "      <th>y_pred</th>\n",
       "      <th>pixel200</th>\n",
       "    </tr>\n",
       "  </thead>\n",
       "  <tbody>\n",
       "    <tr>\n",
       "      <th>17</th>\n",
       "      <td>3</td>\n",
       "      <td>5</td>\n",
       "      <td>11</td>\n",
       "    </tr>\n",
       "    <tr>\n",
       "      <th>41</th>\n",
       "      <td>7</td>\n",
       "      <td>9</td>\n",
       "      <td>8</td>\n",
       "    </tr>\n",
       "    <tr>\n",
       "      <th>37</th>\n",
       "      <td>7</td>\n",
       "      <td>2</td>\n",
       "      <td>8</td>\n",
       "    </tr>\n",
       "    <tr>\n",
       "      <th>15</th>\n",
       "      <td>3</td>\n",
       "      <td>2</td>\n",
       "      <td>7</td>\n",
       "    </tr>\n",
       "    <tr>\n",
       "      <th>44</th>\n",
       "      <td>8</td>\n",
       "      <td>3</td>\n",
       "      <td>6</td>\n",
       "    </tr>\n",
       "    <tr>\n",
       "      <th>52</th>\n",
       "      <td>9</td>\n",
       "      <td>4</td>\n",
       "      <td>6</td>\n",
       "    </tr>\n",
       "    <tr>\n",
       "      <th>30</th>\n",
       "      <td>5</td>\n",
       "      <td>9</td>\n",
       "      <td>6</td>\n",
       "    </tr>\n",
       "    <tr>\n",
       "      <th>26</th>\n",
       "      <td>5</td>\n",
       "      <td>3</td>\n",
       "      <td>6</td>\n",
       "    </tr>\n",
       "    <tr>\n",
       "      <th>24</th>\n",
       "      <td>4</td>\n",
       "      <td>9</td>\n",
       "      <td>6</td>\n",
       "    </tr>\n",
       "    <tr>\n",
       "      <th>8</th>\n",
       "      <td>2</td>\n",
       "      <td>4</td>\n",
       "      <td>5</td>\n",
       "    </tr>\n",
       "    <tr>\n",
       "      <th>23</th>\n",
       "      <td>4</td>\n",
       "      <td>6</td>\n",
       "      <td>5</td>\n",
       "    </tr>\n",
       "    <tr>\n",
       "      <th>51</th>\n",
       "      <td>9</td>\n",
       "      <td>3</td>\n",
       "      <td>4</td>\n",
       "    </tr>\n",
       "    <tr>\n",
       "      <th>48</th>\n",
       "      <td>8</td>\n",
       "      <td>9</td>\n",
       "      <td>4</td>\n",
       "    </tr>\n",
       "    <tr>\n",
       "      <th>43</th>\n",
       "      <td>8</td>\n",
       "      <td>2</td>\n",
       "      <td>4</td>\n",
       "    </tr>\n",
       "    <tr>\n",
       "      <th>19</th>\n",
       "      <td>3</td>\n",
       "      <td>7</td>\n",
       "      <td>4</td>\n",
       "    </tr>\n",
       "  </tbody>\n",
       "</table>\n",
       "</div>"
      ],
      "text/plain": [
       "    y  y_pred  pixel200\n",
       "17  3       5        11\n",
       "41  7       9         8\n",
       "37  7       2         8\n",
       "15  3       2         7\n",
       "44  8       3         6\n",
       "52  9       4         6\n",
       "30  5       9         6\n",
       "26  5       3         6\n",
       "24  4       9         6\n",
       "8   2       4         5\n",
       "23  4       6         5\n",
       "51  9       3         4\n",
       "48  8       9         4\n",
       "43  8       2         4\n",
       "19  3       7         4"
      ]
     },
     "execution_count": 196,
     "metadata": {},
     "output_type": "execute_result"
    }
   ],
   "source": [
    "X_y_y_pred_err \\\n",
    "    .groupby(['y', 'y_pred'], as_index=False) \\\n",
    "    .agg({'pixel200': 'count'}) \\\n",
    "    .sort_values('pixel200', ascending=False) \\\n",
    "    .head(15)"
   ]
  },
  {
   "cell_type": "code",
   "execution_count": 197,
   "id": "a7be2b63",
   "metadata": {},
   "outputs": [
    {
     "data": {
      "image/png": "[encoded data removed]",
      "text/plain": [
       "<Figure size 1200x1000 with 11 Axes>"
      ]
     },
     "metadata": {},
     "output_type": "display_data"
    }
   ],
   "source": [
    "fig, axs = plt.subplots(1, 11, figsize=(12,10),\n",
    "                       sharex=True, sharey=True)\n",
    "\n",
    "df = X_y_y_pred_err[(X_y_y_pred_err['y'] == 3) & (X_y_y_pred_err['y_pred'] == 5)] \\\n",
    "    .drop(columns=['y_pred', 'y'])\n",
    "    \n",
    "image_n = 0\n",
    "for ind, image_row in df.iterrows():\n",
    "    inds_of_pixels = [int(x[5:]) for x in df.columns]\n",
    "    image = np.array([(image_row['pixel' + str(i)] if i in inds_of_pixels else 0) for i in range(784)])\n",
    "    \n",
    "    print_image(image, ax=axs[image_n])\n",
    "    image_n += 1"
   ]
  },
  {
   "cell_type": "code",
   "execution_count": 201,
   "id": "5fbdceea",
   "metadata": {},
   "outputs": [
    {
     "data": {
      "image/png": "[encoded data removed]",
      "text/plain": [
       "<Figure size 1200x1000 with 6 Axes>"
      ]
     },
     "metadata": {},
     "output_type": "display_data"
    }
   ],
   "source": [
    "fig, axs = plt.subplots(1, 6, figsize=(12,10),\n",
    "                       sharex=True, sharey=True)\n",
    "\n",
    "df = X_y_y_pred_err[(X_y_y_pred_err['y'] == 4) & (X_y_y_pred_err['y_pred'] == 9)] \\\n",
    "    .drop(columns=['y_pred', 'y'])\n",
    "    \n",
    "image_n = 0\n",
    "for ind, image_row in df.iterrows():\n",
    "    inds_of_pixels = [int(x[5:]) for x in df.columns]\n",
    "    image = np.array([(image_row['pixel' + str(i)] if i in inds_of_pixels else 0) for i in range(784)])\n",
    "    \n",
    "    print_image(image, ax=axs[image_n])\n",
    "    image_n += 1"
   ]
  },
  {
   "cell_type": "markdown",
   "id": "3a9354b8",
   "metadata": {},
   "source": [
    "# Оценка качества модели"
   ]
  },
  {
   "cell_type": "code",
   "execution_count": 202,
   "id": "777e689a",
   "metadata": {},
   "outputs": [],
   "source": [
    "X_test = X_test[selector.get_feature_names_out()]"
   ]
  },
  {
   "cell_type": "code",
   "execution_count": 203,
   "id": "cedbd70a",
   "metadata": {},
   "outputs": [
    {
     "name": "stdout",
     "output_type": "stream",
     "text": [
      "CPU times: user 154 ms, sys: 22.8 ms, total: 177 ms\n",
      "Wall time: 179 ms\n"
     ]
    },
    {
     "data": {
      "text/plain": [
       "0.9548809523809524"
      ]
     },
     "execution_count": 203,
     "metadata": {},
     "output_type": "execute_result"
    }
   ],
   "source": [
    "%%time\n",
    "\n",
    "model_random_forest_100.score(X_test, y_test)"
   ]
  },
  {
   "cell_type": "code",
   "execution_count": 204,
   "id": "f924637b",
   "metadata": {},
   "outputs": [
    {
     "name": "stdout",
     "output_type": "stream",
     "text": [
      "CPU times: user 2min 10s, sys: 7.67 s, total: 2min 18s\n",
      "Wall time: 2min 19s\n"
     ]
    }
   ],
   "source": [
    "%%time\n",
    "\n",
    "boot_accuracies = []\n",
    "boot_precisions = []\n",
    "boot_recalls = []\n",
    "\n",
    "X_y_test = X_test.copy(deep=True)\n",
    "X_y_test['y'] = y_test\n",
    "\n",
    "for i in range(1000):\n",
    "    X_y_test_boot = X_y_test.sample(len(X_y_test), replace=True)\n",
    "    X_test_boot = X_y_test_boot.drop(columns='y')\n",
    "    y_test_boot = X_y_test_boot['y']\n",
    "    \n",
    "    y_pred = model_random_forest_100.predict(X_test_boot)\n",
    "    \n",
    "    boot_accuracies.append(accuracy_score(y_test_boot, y_pred))\n",
    "    boot_precisions.append(precision_score(y_test_boot, y_pred, average='micro'))\n",
    "    boot_recalls.append(recall_score(y_test_boot, y_pred, average='macro'))"
   ]
  },
  {
   "cell_type": "code",
   "execution_count": 205,
   "id": "c71a5ea0",
   "metadata": {},
   "outputs": [
    {
     "data": {
      "text/plain": [
       "<AxesSubplot: ylabel='Count'>"
      ]
     },
     "execution_count": 205,
     "metadata": {},
     "output_type": "execute_result"
    },
    {
     "data": {
      "image/png": "[encoded data removed]",
      "text/plain": [
       "<Figure size 1170x827 with 1 Axes>"
      ]
     },
     "metadata": {},
     "output_type": "display_data"
    }
   ],
   "source": [
    "sns.histplot(boot_accuracies)"
   ]
  },
  {
   "cell_type": "code",
   "execution_count": 206,
   "id": "cf03d68c",
   "metadata": {},
   "outputs": [
    {
     "name": "stdout",
     "output_type": "stream",
     "text": [
      "Доверительный интервал для accuracy: (0.95, 0.959)\n"
     ]
    }
   ],
   "source": [
    "boot_accuracies_sorted = list(sorted(boot_accuracies))\n",
    "boot_accuracies_sorted = boot_accuracies_sorted[25:975]\n",
    "\n",
    "print('Доверительный интервал для accuracy:', \n",
    "      '(' + str(round(boot_accuracies_sorted[0], 3)) + ', ' + str(round(boot_accuracies_sorted[-1], 3)) + ')')"
   ]
  },
  {
   "cell_type": "code",
   "execution_count": 207,
   "id": "8e7251ac",
   "metadata": {},
   "outputs": [
    {
     "name": "stdout",
     "output_type": "stream",
     "text": [
      "Доверительный интервал для precision: (0.95, 0.959)\n"
     ]
    }
   ],
   "source": [
    "boot_precisions_sorted = list(sorted(boot_precisions))\n",
    "boot_precisions_sorted = boot_precisions_sorted[25:975]\n",
    "\n",
    "print('Доверительный интервал для precision:', \n",
    "      '(' + str(round(boot_precisions_sorted[0], 3)) + ', ' + str(round(boot_precisions_sorted[-1], 3)) + ')')"
   ]
  },
  {
   "cell_type": "code",
   "execution_count": 208,
   "id": "95b748a6",
   "metadata": {},
   "outputs": [
    {
     "name": "stdout",
     "output_type": "stream",
     "text": [
      "Доверительный интервал для recall: (0.95, 0.959)\n"
     ]
    }
   ],
   "source": [
    "boot_recalls_sorted = list(sorted(boot_recalls))\n",
    "boot_recalls_sorted = boot_recalls_sorted[25:975]\n",
    "\n",
    "print('Доверительный интервал для recall:', \n",
    "      '(' + str(round(boot_recalls_sorted[0], 3)) + ', ' + str(round(boot_recalls_sorted[-1], 3)) + ')')"
   ]
  },
  {
   "cell_type": "markdown",
   "id": "f89c8634",
   "metadata": {},
   "source": [
    "# Интерпретация результатов"
   ]
  },
  {
   "cell_type": "code",
   "execution_count": 231,
   "id": "233b91f8",
   "metadata": {},
   "outputs": [
    {
     "data": {
      "text/plain": [
       "array([1.02542048e-03, 1.01906314e-03, 2.50362887e-05, 1.85857429e-02,\n",
       "       9.46181547e-04, 1.01951966e-03, 4.07491506e-03, 9.48270790e-04,\n",
       "       5.95691342e-04, 6.61618903e-04, 3.53956184e-05, 2.87316926e-04,\n",
       "       5.92153177e-04, 9.23518691e-05, 2.07964427e-03, 1.13868427e-03,\n",
       "       7.23897503e-04, 2.62751951e-04, 3.40236736e-03, 1.16528545e-03,\n",
       "       3.29217311e-05, 4.89605929e-02, 4.40824188e-04, 5.42827117e-04,\n",
       "       3.53126248e-03, 3.34205452e-05, 3.30642494e-05, 2.33694907e-04,\n",
       "       2.95404128e-03, 4.29555174e-03, 5.36474573e-04, 2.63468456e-03,\n",
       "       1.57034914e-03, 7.40390191e-04, 9.86073177e-03, 7.14193365e-04,\n",
       "       3.05274234e-04, 1.50056789e-03, 8.79908086e-04, 7.35250420e-05,\n",
       "       4.33110664e-03, 2.81070906e-05, 1.08127340e-03, 1.04168785e-03,\n",
       "       3.09555291e-03, 9.81301447e-04, 8.52127519e-04, 5.01982042e-04,\n",
       "       1.44618361e-03, 1.25128472e-03, 2.56830393e-03, 6.77574795e-04,\n",
       "       5.59604366e-04, 2.14564960e-03, 6.42928468e-04, 4.68425316e-04,\n",
       "       4.50459268e-03, 7.57716801e-04, 2.06795647e-04, 8.24071817e-03,\n",
       "       2.89312183e-04, 5.17157594e-04, 4.57888417e-03, 1.05262310e-03,\n",
       "       4.42606949e-02, 8.00460603e-04, 2.18480579e-04, 2.91164921e-04,\n",
       "       2.30879673e-05, 1.42216683e-02, 1.05608996e-03, 3.38479179e-04,\n",
       "       6.54883023e-04, 3.50277287e-05, 6.22377033e-04, 2.74194278e-04,\n",
       "       2.29091716e-04, 2.22291192e-03, 9.23518691e-05, 1.68127792e-03,\n",
       "       1.01849095e-03, 3.90395664e-03, 8.00693815e-04, 7.23826590e-03,\n",
       "       3.08712142e-02, 7.18292315e-05, 4.17413227e-04, 2.79098072e-03,\n",
       "       2.25271128e-03, 1.23664298e-03, 7.73161867e-04, 1.68707652e-02,\n",
       "       1.00529130e-03, 1.02603987e-03, 3.07525290e-03, 3.21824886e-03,\n",
       "       4.98051566e-03, 1.19004114e-02, 3.19033730e-04, 1.57488832e-03,\n",
       "       1.95551941e-03, 8.43257937e-03, 8.38007701e-05, 5.43859613e-04,\n",
       "       7.28757656e-04, 2.56249285e-04, 7.99295016e-03, 4.61802327e-03,\n",
       "       1.91808170e-03, 7.16688120e-04, 4.68219225e-03, 1.57474470e-02,\n",
       "       3.94987262e-03, 1.49639228e-03, 1.32533202e-03, 2.41103142e-03,\n",
       "       4.00357873e-03, 5.45576774e-04, 3.48196580e-05, 2.69359618e-04,\n",
       "       3.35510043e-04, 1.79213406e-03, 1.03175497e-03, 9.42426121e-04,\n",
       "       4.91323425e-03, 8.15148571e-03, 2.66392921e-03, 1.05267944e-02,\n",
       "       1.99370084e-03, 2.79824653e-03, 1.36182710e-02, 3.44591169e-03,\n",
       "       6.59840143e-04, 4.90812572e-03, 8.76753979e-05, 6.85048203e-04,\n",
       "       4.39923231e-04, 9.78059929e-03, 3.81220615e-03, 5.22874553e-04,\n",
       "       3.25518737e-02, 4.38671378e-04, 1.86795401e-02, 3.17358855e-03,\n",
       "       5.64540961e-03, 3.08378655e-04, 7.03810807e-04, 1.52365037e-04,\n",
       "       3.46144264e-04, 1.90509576e-03, 3.02663282e-03, 1.07743847e-04,\n",
       "       1.62812925e-03, 7.49597569e-04, 1.40040467e-03, 6.80065364e-04,\n",
       "       3.93167148e-03, 5.03988619e-04, 1.49093095e-03, 5.07820819e-02,\n",
       "       3.59041511e-04, 2.28064565e-03, 5.15661909e-04, 3.73428144e-04,\n",
       "       1.78945156e-03, 3.50131433e-03, 1.95069360e-03, 1.12731839e-03,\n",
       "       3.62178058e-02, 9.14190220e-05, 3.00640554e-03, 6.78831881e-02,\n",
       "       2.16927166e-03, 1.39670575e-04, 1.22870522e-03, 1.10110561e-05,\n",
       "       9.23037607e-04, 6.21664897e-04, 3.51190649e-05, 1.01106897e-03,\n",
       "       1.69778170e-02, 2.25020062e-03, 4.64268401e-03, 3.59288676e-04,\n",
       "       8.24228437e-04, 3.44344787e-03, 3.56478779e-03, 1.60097227e-03,\n",
       "       8.30010585e-04, 7.73320121e-04, 2.79234344e-03, 1.53969663e-03,\n",
       "       1.58333127e-03, 4.42509776e-04, 6.77664922e-04, 1.16831997e-04,\n",
       "       1.50167619e-04, 2.08412824e-02, 1.98619099e-04, 6.96970883e-03,\n",
       "       2.80643668e-02, 1.18510521e-03, 5.24152601e-03, 1.45971011e-03,\n",
       "       4.77794329e-04, 2.34891689e-03, 5.12424607e-04, 2.32896285e-03,\n",
       "       3.17679483e-04, 2.30879673e-05, 2.77522031e-05, 3.31355086e-04,\n",
       "       8.55690919e-04, 6.06998967e-03, 6.59403651e-03, 1.41409559e-03,\n",
       "       3.18627425e-03, 3.28490643e-03, 1.28031263e-03, 1.11404173e-03,\n",
       "       8.77823756e-04, 2.68932063e-04, 1.95313207e-03, 3.48909136e-05,\n",
       "       1.83006246e-03, 3.48825866e-05, 1.68076213e-03, 7.96105392e-04,\n",
       "       9.09519091e-03, 2.23654021e-03, 4.82634767e-04, 6.10431100e-04,\n",
       "       7.10416303e-04, 6.38464858e-04, 5.71766719e-04, 4.04039427e-04,\n",
       "       1.96542859e-02, 7.02330264e-04, 5.00301860e-04, 3.40342154e-03,\n",
       "       2.81070906e-05, 1.41130505e-03, 5.01887159e-05, 1.45286105e-02,\n",
       "       3.40696946e-03, 1.14002066e-03, 1.49732377e-03, 8.12710700e-04,\n",
       "       8.49211013e-04, 5.38719237e-05, 1.86303351e-03, 5.23897332e-04,\n",
       "       2.84324041e-05, 1.00186251e-03, 1.03363849e-04, 7.15824157e-04,\n",
       "       6.16963561e-04, 5.25795888e-03, 2.53804649e-03, 3.10002692e-04,\n",
       "       3.52616228e-04, 5.30738211e-04, 1.65507780e-03, 5.43648498e-04,\n",
       "       3.89251056e-04, 2.45908302e-03, 5.38719237e-05, 1.37470871e-03,\n",
       "       3.34655206e-03, 1.00125127e-03, 3.24612873e-05, 3.07839564e-05,\n",
       "       1.12428362e-04, 4.52177383e-04, 5.87065835e-04, 2.06479902e-03,\n",
       "       6.81604812e-04, 7.23944737e-05, 7.57904024e-04, 4.57533049e-02,\n",
       "       2.89796385e-03, 7.03170073e-04, 4.72356763e-04, 2.54667275e-04,\n",
       "       9.75793334e-05, 6.46130894e-04, 3.52435368e-05, 3.56048779e-05,\n",
       "       1.42371894e-03, 3.52349989e-05, 2.17141936e-04])"
      ]
     },
     "execution_count": 231,
     "metadata": {},
     "output_type": "execute_result"
    }
   ],
   "source": [
    "model_decision_tree_5.feature_importances_[model_decision_tree_5.feature_importances_ > 0]"
   ]
  },
  {
   "cell_type": "code",
   "execution_count": 232,
   "id": "06a4b928",
   "metadata": {},
   "outputs": [
    {
     "data": {
      "text/plain": [
       "array(['pixel92', 'pixel94', 'pixel95', 'pixel96', 'pixel99', 'pixel100',\n",
       "       'pixel103', 'pixel104', 'pixel106', 'pixel122', 'pixel125',\n",
       "       'pixel126', 'pixel128', 'pixel129', 'pixel130', 'pixel134',\n",
       "       'pixel148', 'pixel150', 'pixel151', 'pixel152', 'pixel154',\n",
       "       'pixel155', 'pixel156', 'pixel157', 'pixel158', 'pixel159',\n",
       "       'pixel161', 'pixel174', 'pixel177', 'pixel178', 'pixel179',\n",
       "       'pixel180', 'pixel181', 'pixel182', 'pixel183', 'pixel184',\n",
       "       'pixel185', 'pixel186', 'pixel187', 'pixel189', 'pixel191',\n",
       "       'pixel203', 'pixel204', 'pixel205', 'pixel206', 'pixel207',\n",
       "       'pixel208', 'pixel209', 'pixel210', 'pixel211', 'pixel212',\n",
       "       'pixel213', 'pixel214', 'pixel215', 'pixel216', 'pixel217',\n",
       "       'pixel218', 'pixel230', 'pixel231', 'pixel234', 'pixel235',\n",
       "       'pixel236', 'pixel237', 'pixel238', 'pixel239', 'pixel240',\n",
       "       'pixel241', 'pixel242', 'pixel243', 'pixel245', 'pixel246',\n",
       "       'pixel247', 'pixel249', 'pixel255', 'pixel260', 'pixel261',\n",
       "       'pixel262', 'pixel263', 'pixel264', 'pixel265', 'pixel266',\n",
       "       'pixel267', 'pixel268', 'pixel269', 'pixel270', 'pixel271',\n",
       "       'pixel273', 'pixel275', 'pixel284', 'pixel288', 'pixel289',\n",
       "       'pixel290', 'pixel291', 'pixel292', 'pixel293', 'pixel294',\n",
       "       'pixel295', 'pixel296', 'pixel297', 'pixel298', 'pixel299',\n",
       "       'pixel300', 'pixel301', 'pixel304', 'pixel314', 'pixel315',\n",
       "       'pixel317', 'pixel318', 'pixel319', 'pixel320', 'pixel321',\n",
       "       'pixel322', 'pixel323', 'pixel324', 'pixel325', 'pixel326',\n",
       "       'pixel327', 'pixel328', 'pixel329', 'pixel330', 'pixel342',\n",
       "       'pixel343', 'pixel344', 'pixel345', 'pixel346', 'pixel347',\n",
       "       'pixel348', 'pixel349', 'pixel350', 'pixel351', 'pixel352',\n",
       "       'pixel353', 'pixel354', 'pixel355', 'pixel356', 'pixel358',\n",
       "       'pixel370', 'pixel372', 'pixel373', 'pixel374', 'pixel375',\n",
       "       'pixel376', 'pixel377', 'pixel378', 'pixel379', 'pixel380',\n",
       "       'pixel381', 'pixel382', 'pixel386', 'pixel398', 'pixel400',\n",
       "       'pixel401', 'pixel402', 'pixel403', 'pixel404', 'pixel405',\n",
       "       'pixel406', 'pixel407', 'pixel408', 'pixel409', 'pixel410',\n",
       "       'pixel411', 'pixel412', 'pixel426', 'pixel427', 'pixel428',\n",
       "       'pixel429', 'pixel430', 'pixel431', 'pixel432', 'pixel433',\n",
       "       'pixel434', 'pixel435', 'pixel437', 'pixel438', 'pixel439',\n",
       "       'pixel440', 'pixel441', 'pixel442', 'pixel454', 'pixel455',\n",
       "       'pixel456', 'pixel457', 'pixel458', 'pixel459', 'pixel460',\n",
       "       'pixel461', 'pixel462', 'pixel463', 'pixel464', 'pixel465',\n",
       "       'pixel467', 'pixel468', 'pixel469', 'pixel471', 'pixel483',\n",
       "       'pixel484', 'pixel485', 'pixel486', 'pixel487', 'pixel488',\n",
       "       'pixel489', 'pixel490', 'pixel491', 'pixel492', 'pixel494',\n",
       "       'pixel495', 'pixel497', 'pixel498', 'pixel509', 'pixel511',\n",
       "       'pixel512', 'pixel513', 'pixel514', 'pixel515', 'pixel516',\n",
       "       'pixel517', 'pixel518', 'pixel520', 'pixel521', 'pixel522',\n",
       "       'pixel523', 'pixel526', 'pixel527', 'pixel538', 'pixel539',\n",
       "       'pixel540', 'pixel541', 'pixel542', 'pixel543', 'pixel544',\n",
       "       'pixel545', 'pixel546', 'pixel547', 'pixel548', 'pixel549',\n",
       "       'pixel550', 'pixel551', 'pixel552', 'pixel553', 'pixel566',\n",
       "       'pixel567', 'pixel568', 'pixel569', 'pixel570', 'pixel571',\n",
       "       'pixel572', 'pixel573', 'pixel574', 'pixel575', 'pixel577',\n",
       "       'pixel578', 'pixel579', 'pixel582', 'pixel593', 'pixel594',\n",
       "       'pixel595', 'pixel597', 'pixel598', 'pixel599', 'pixel600',\n",
       "       'pixel601', 'pixel602', 'pixel603', 'pixel606', 'pixel607',\n",
       "       'pixel621', 'pixel623', 'pixel627', 'pixel628', 'pixel629',\n",
       "       'pixel630', 'pixel631', 'pixel634', 'pixel636', 'pixel652',\n",
       "       'pixel654', 'pixel655', 'pixel656', 'pixel657', 'pixel659',\n",
       "       'pixel661', 'pixel679', 'pixel684', 'pixel685', 'pixel689',\n",
       "       'pixel709', 'pixel711', 'pixel713', 'pixel715', 'pixel718'],\n",
       "      dtype=object)"
      ]
     },
     "execution_count": 232,
     "metadata": {},
     "output_type": "execute_result"
    }
   ],
   "source": [
    "model_decision_tree_5.feature_names_in_[model_decision_tree_5.feature_importances_ > 0]"
   ]
  },
  {
   "cell_type": "code",
   "execution_count": 233,
   "id": "7dfd3ee8",
   "metadata": {},
   "outputs": [
    {
     "data": {
      "text/plain": [
       "291"
      ]
     },
     "execution_count": 233,
     "metadata": {},
     "output_type": "execute_result"
    }
   ],
   "source": [
    "len(model_decision_tree_5.feature_names_in_[model_decision_tree_5.feature_importances_ > 0])"
   ]
  },
  {
   "cell_type": "code",
   "execution_count": 234,
   "id": "dd362733",
   "metadata": {},
   "outputs": [
    {
     "data": {
      "text/plain": [
       "<AxesSubplot: ylabel='Count'>"
      ]
     },
     "execution_count": 234,
     "metadata": {},
     "output_type": "execute_result"
    },
    {
     "data": {
      "image/png": "[encoded data removed]",
      "text/plain": [
       "<Figure size 1170x827 with 1 Axes>"
      ]
     },
     "metadata": {},
     "output_type": "display_data"
    }
   ],
   "source": [
    "sns.histplot(model_decision_tree_5.feature_importances_[model_decision_tree_5.feature_importances_ > 0])"
   ]
  },
  {
   "cell_type": "code",
   "execution_count": 235,
   "id": "4828e668",
   "metadata": {},
   "outputs": [
    {
     "data": {
      "text/plain": [
       "array(['pixel96', 'pixel155', 'pixel239', 'pixel245', 'pixel270',\n",
       "       'pixel290', 'pixel296', 'pixel322', 'pixel349', 'pixel352',\n",
       "       'pixel375', 'pixel377', 'pixel409', 'pixel431', 'pixel434',\n",
       "       'pixel455', 'pixel485', 'pixel488', 'pixel550', 'pixel569',\n",
       "       'pixel657'], dtype=object)"
      ]
     },
     "execution_count": 235,
     "metadata": {},
     "output_type": "execute_result"
    }
   ],
   "source": [
    "model_decision_tree_5.feature_names_in_[model_decision_tree_5.feature_importances_ > 0.01]"
   ]
  },
  {
   "cell_type": "code",
   "execution_count": 237,
   "id": "285ab8f7",
   "metadata": {},
   "outputs": [
    {
     "data": {
      "text/plain": [
       "21"
      ]
     },
     "execution_count": 237,
     "metadata": {},
     "output_type": "execute_result"
    }
   ],
   "source": [
    "len(model_decision_tree_5.feature_names_in_[model_decision_tree_5.feature_importances_ > 0.01])"
   ]
  },
  {
   "cell_type": "code",
   "execution_count": 238,
   "id": "002c46f8",
   "metadata": {},
   "outputs": [],
   "source": [
    "inds_of_important_pixels = [int(x[5:]) for x in model_decision_tree_5.feature_names_in_[model_decision_tree_5.feature_importances_ > 0.01]]"
   ]
  },
  {
   "cell_type": "code",
   "execution_count": 239,
   "id": "212156b4",
   "metadata": {},
   "outputs": [],
   "source": [
    "vect = np.array([(255 if i in inds_of_important_pixels else 0) for i in range(784)])"
   ]
  },
  {
   "cell_type": "code",
   "execution_count": 240,
   "id": "70400725",
   "metadata": {},
   "outputs": [
    {
     "data": {
      "image/png": "[encoded data removed]",
      "text/plain": [
       "<Figure size 1170x827 with 1 Axes>"
      ]
     },
     "metadata": {},
     "output_type": "display_data"
    }
   ],
   "source": [
    "print_image(vect)"
   ]
  },
  {
   "cell_type": "code",
   "execution_count": null,
   "id": "e7c4fa0c",
   "metadata": {},
   "outputs": [],
   "source": []
  }
 ],
 "metadata": {
  "kernelspec": {
   "display_name": "Python 3 (ipykernel)",
   "language": "python",
   "name": "python3"
  },
  "language_info": {
   "codemirror_mode": {
    "name": "ipython",
    "version": 3
   },
   "file_extension": ".py",
   "mimetype": "text/x-python",
   "name": "python",
   "nbconvert_exporter": "python",
   "pygments_lexer": "ipython3",
   "version": "3.9.5"
  }
 },
 "nbformat": 4,
 "nbformat_minor": 5
}
